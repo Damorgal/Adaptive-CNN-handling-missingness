{
 "cells": [
  {
   "cell_type": "markdown",
   "metadata": {},
   "source": [
    "Necesary libraries:"
   ]
  },
  {
   "cell_type": "code",
   "execution_count": 1,
   "metadata": {},
   "outputs": [],
   "source": [
    "import numpy as np\n",
    "import pandas as pd\n",
    "import matplotlib.pyplot as plt\n",
    "import seaborn as sns\n",
    "from tqdm import tqdm\n",
    "import os, time, random\n",
    "import torch\n",
    "from torch.utils.data import Dataset, DataLoader\n",
    "from sklearn.model_selection import train_test_split\n",
    "from sklearn.preprocessing import StandardScaler\n",
    "from sklearn import metrics\n",
    "import itertools"
   ]
  },
  {
   "cell_type": "markdown",
   "metadata": {},
   "source": [
    "Loading the data:"
   ]
  },
  {
   "cell_type": "code",
   "execution_count": 27,
   "metadata": {},
   "outputs": [
    {
     "name": "stdout",
     "output_type": "stream",
     "text": [
      "Requirement already up-to-date: wget in /home/damorgal/anaconda3/lib/python3.7/site-packages (3.2)\r\n"
     ]
    }
   ],
   "source": [
    "# Run this just the first time\n",
    "#!pip install -U wget\n",
    "#!rm -rf data.zip data lib\n",
    "#!rm -rf preprocessed\n",
    "!mkdir -p preprocessed\n",
    "!mkdir -p checkpoint\n",
    "!mkdir -p lib\n",
    "\n",
    "import wget\n",
    "wget.download('https://github.com/shengpu1126/BDSI2019-ML/raw/master/lib/config.yaml', 'lib/config.yaml')\n",
    "wget.download('https://github.com/shengpu1126/BDSI2019-ML/raw/master/lib/helper.py', 'lib/helper.py')\n",
    "wget.download('https://github.com/shengpu1126/BDSI2019-ML/raw/master/data.zip', 'data.zip')\n",
    "wget.download('https://github.com/shengpu1126/BDSI2019-ML/raw/master/preprocessed/data_seq.npz', 'preprocessed/data_seq.npz')\n",
    "wget.download('https://github.com/shengpu1126/BDSI2019-ML/raw/master/lib/prepare_data.py', 'lib/prepare_data.py')\n",
    "\n",
    "import zipfile\n",
    "with zipfile.ZipFile(\"data.zip\",\"r\") as zip_ref:\n",
    "    zip_ref.extractall(\".\")"
   ]
  },
  {
   "cell_type": "code",
   "execution_count": 2,
   "metadata": {},
   "outputs": [
    {
     "name": "stderr",
     "output_type": "stream",
     "text": [
      "Loading files from disk: 100%|██████████| 12000/12000 [00:33<00:00, 361.91it/s]\n"
     ]
    }
   ],
   "source": [
    "#Run this to load the data if you have downloaded the data before\n",
    "from lib.helper import load_data\n",
    "raw_data, df_labels = load_data(120000)"
   ]
  },
  {
   "cell_type": "code",
   "execution_count": 3,
   "metadata": {},
   "outputs": [
    {
     "name": "stdout",
     "output_type": "stream",
     "text": [
      "using device: cpu\n"
     ]
    }
   ],
   "source": [
    "# GPU support\n",
    "device = torch.device('cuda' if torch.cuda.is_available() else 'cpu')\n",
    "print('using device:', device)"
   ]
  },
  {
   "cell_type": "markdown",
   "metadata": {},
   "source": [
    "Preparing data:"
   ]
  },
  {
   "cell_type": "code",
   "execution_count": null,
   "metadata": {},
   "outputs": [],
   "source": [
    "%run lib/prepare_data.py"
   ]
  },
  {
   "cell_type": "code",
   "execution_count": 4,
   "metadata": {},
   "outputs": [],
   "source": [
    "class SimpleDataset(Dataset):\n",
    "    def __init__(self, X, y):\n",
    "        self.X, self.y = X, y\n",
    "    def __getitem__(self, idx):\n",
    "        return torch.from_numpy(self.X[idx]).float(), torch.tensor([self.y[idx]]).float()\n",
    "    def __len__(self):\n",
    "        return len(self.X)\n",
    "\n",
    "def get_train_val_test(batch_size=64):\n",
    "    #f = np.load('preprocessed/data_seq.npz')\n",
    "    f = np.load('data/data_nmiss_CF.npz')\n",
    "    f2 = np.load('data/data_miss_CF.npz')\n",
    "    X, y, y2 = f['X'], f['y'], f2['y']\n",
    "    X = np.concatenate((X,f2['X']), axis=2)\n",
    "    X = X.transpose((0,2,1))\n",
    "    print(X.shape, y.shape)\n",
    "    \n",
    "    print('Creating splits')\n",
    "    Xtr, X__, ytr, y__ = train_test_split(X,   y,   train_size=0.8, stratify=y,   random_state=13)\n",
    "    Xva, Xte, yva, yte = train_test_split(X__, y__, test_size=0.5, stratify=y__, random_state=13)\n",
    "    \n",
    "    tr = SimpleDataset(Xtr, ytr)\n",
    "    va = SimpleDataset(Xva, yva)\n",
    "    te = SimpleDataset(Xte, yte)\n",
    "    \n",
    "    tr_loader = DataLoader(tr, batch_size=batch_size, shuffle=True)\n",
    "    va_loader = DataLoader(va, batch_size=batch_size)\n",
    "    te_loader = DataLoader(te, batch_size=batch_size)\n",
    "    \n",
    "    print('Feature shape, Label shape, Class balance:')\n",
    "    print('\\t', tr_loader.dataset.X.shape, tr_loader.dataset.y.shape, tr_loader.dataset.y.mean())\n",
    "    print('\\t', va_loader.dataset.X.shape, va_loader.dataset.y.shape, va_loader.dataset.y.mean())\n",
    "    print('\\t', te_loader.dataset.X.shape, te_loader.dataset.y.shape, te_loader.dataset.y.mean())\n",
    "    return tr_loader, va_loader, te_loader"
   ]
  },
  {
   "cell_type": "code",
   "execution_count": 5,
   "metadata": {},
   "outputs": [
    {
     "name": "stdout",
     "output_type": "stream",
     "text": [
      "(10000, 70, 48) (10000,)\n",
      "Creating splits\n"
     ]
    },
    {
     "name": "stderr",
     "output_type": "stream",
     "text": [
      "/home/damorgal/anaconda3/lib/python3.7/site-packages/sklearn/model_selection/_split.py:2179: FutureWarning: From version 0.21, test_size will always complement train_size unless both are specified.\n",
      "  FutureWarning)\n"
     ]
    },
    {
     "name": "stdout",
     "output_type": "stream",
     "text": [
      "Feature shape, Label shape, Class balance:\n",
      "\t (8000, 70, 48) (8000,) 0.142875\n",
      "\t (1000, 70, 48) (1000,) 0.143\n",
      "\t (1000, 70, 48) (1000,) 0.143\n"
     ]
    }
   ],
   "source": [
    "tr_loader, va_loader, te_loader = get_train_val_test(batch_size=64)"
   ]
  },
  {
   "cell_type": "code",
   "execution_count": 19,
   "metadata": {},
   "outputs": [],
   "source": [
    "import torch.nn as nn\n",
    "import torch.nn.functional as F\n",
    "\n",
    "class CNN(nn.Module):\n",
    "    def __init__(self, in_channels, n_filters, output_size, sequence_len):\n",
    "        super().__init__()\n",
    "        self.n_filters = n_filters\n",
    "        self.conv1 = nn.Conv1d(in_channels, n_filters, 3, padding=1)\n",
    "        self.pool1 = nn.MaxPool1d(2)\n",
    "        self.conv2 = nn.Conv1d(n_filters, n_filters, 3, padding=1)\n",
    "        self.pool2 = nn.MaxPool1d(2)\n",
    "        self.fc = nn.Linear(int(sequence_len/2/2)*n_filters, output_size)\n",
    "\n",
    "    def forward(self, x):\n",
    "        N, C, L = x.shape\n",
    "        xm = 1 - x[:,35:70,:]\n",
    "        x = x[:,:35,:]\n",
    "        N, d, L = x.shape\n",
    "        #x = torch.Tensor(np.concatenate((x,xd,xt), axis=1))\n",
    "        #ones = np.array([np.array([np.ones(L) for i in range(d)]) for j in range(N)])\n",
    "        #xm = torch.Tensor(np.concatenate((xm,ones,ones), axis=1))\n",
    "        \n",
    "        # Getting the weights for the trained model\n",
    "        z = self.conv1(x)\n",
    "        w = self.conv1.weight\n",
    "        wm = torch.abs(w) / torch.sum(torch.abs(w), dim=(1,2), keepdim=True)\n",
    "        \n",
    "        # Apply the weights to the mask xm\n",
    "        zm = F.conv1d(xm, wm, padding=1)\n",
    "        \n",
    "        # Apply the first set of conv-elu-pool\n",
    "        z = self.pool1(F.elu(zm**2*z))\n",
    "        \n",
    "        # Apply the second set of conv-elu-pool\n",
    "        z = self.pool2(F.elu(self.conv2(z)))\n",
    "        \n",
    "        # Flatten the output from the convolutional/pooling layers\n",
    "        z = z.view(N, -1)\n",
    "        z = self.fc(z)\n",
    "        #z = torch.stack(self.fc(z), 1)\n",
    "        \n",
    "        # Pass through the output layer and apply sigmoid activation\n",
    "        z = torch.sigmoid(z)\n",
    "\n",
    "        return z"
   ]
  },
  {
   "cell_type": "code",
   "execution_count": 20,
   "metadata": {},
   "outputs": [
    {
     "name": "stdout",
     "output_type": "stream",
     "text": [
      "Number of float-valued parameters: 22977\n"
     ]
    }
   ],
   "source": [
    "def count_parameters(model):\n",
    "    return sum(p.numel() for p in model.parameters() if p.requires_grad)\n",
    "\n",
    "model = CNN(35*1, 64, 1, 240)\n",
    "print('Number of float-valued parameters:', count_parameters(model))"
   ]
  },
  {
   "cell_type": "code",
   "execution_count": 21,
   "metadata": {},
   "outputs": [
    {
     "data": {
      "text/plain": [
       "tensor([[0.4909]], grad_fn=<SigmoidBackward>)"
      ]
     },
     "execution_count": 21,
     "metadata": {},
     "output_type": "execute_result"
    }
   ],
   "source": [
    "x = torch.zeros((1, 70, 240))\n",
    "model(x)"
   ]
  },
  {
   "cell_type": "markdown",
   "metadata": {},
   "source": [
    "Train the LSTM:"
   ]
  },
  {
   "cell_type": "code",
   "execution_count": 22,
   "metadata": {},
   "outputs": [],
   "source": [
    "def _train_epoch(data_loader, model, criterion, optimizer):\n",
    "    \"\"\"\n",
    "    Train the `model` for one epoch of data from `data_loader`\n",
    "    Use `optimizer` to optimize the specified `criterion`\n",
    "    \"\"\"\n",
    "    model.train()\n",
    "    for i, (X, y) in enumerate(data_loader):\n",
    "        X, y = X.to(device), y.to(device)\n",
    "        \n",
    "        # clear parameter gradients\n",
    "        optimizer.zero_grad()\n",
    "\n",
    "        # forward + backward + optimize\n",
    "        output = model(X)\n",
    "        loss = criterion(output, y)\n",
    "        loss.backward()\n",
    "        optimizer.step()\n",
    "\n",
    "def _evaluate_epoch(tr_loader, va_loader, model, criterion):\n",
    "    model.eval()\n",
    "    with torch.no_grad():\n",
    "        # Evaluate on train\n",
    "        y_true, y_score = [], []\n",
    "        running_loss = []\n",
    "        for X, y in tr_loader:\n",
    "            X, y = X.to(device), y.to(device)\n",
    "            output = model(X)\n",
    "            y_true.append(y.cpu().numpy())\n",
    "            y_score.append(output.cpu().numpy())\n",
    "            running_loss.append(criterion(output, y).item())\n",
    "\n",
    "        y_true, y_score = np.concatenate(y_true), np.concatenate(y_score)\n",
    "        train_loss = np.mean(running_loss)\n",
    "        train_score = metrics.roc_auc_score(y_true, y_score)\n",
    "        print('tr loss', train_loss, 'tr AUROC', train_score)\n",
    "\n",
    "        # Evaluate on validation\n",
    "        y_true, y_score = [], []\n",
    "        running_loss = []\n",
    "        for X, y in va_loader:\n",
    "            X, y = X.to(device), y.to(device)\n",
    "            with torch.no_grad():\n",
    "                output = model(X)\n",
    "                y_true.append(y.cpu().numpy())\n",
    "                y_score.append(output.cpu().numpy())\n",
    "                running_loss.append(criterion(output, y).item())\n",
    "\n",
    "        y_true, y_score = np.concatenate(y_true), np.concatenate(y_score)\n",
    "        val_loss = np.mean(running_loss)\n",
    "        val_score = metrics.roc_auc_score(y_true, y_score)\n",
    "        print('va loss', val_loss, 'va AUROC', val_score)\n",
    "    return train_loss, val_loss, train_score, val_score\n",
    "\n",
    "def save_checkpoint(model, epoch, checkpoint_dir):\n",
    "    state = {\n",
    "        'epoch': epoch,\n",
    "        'state_dict': model.state_dict(),\n",
    "    }\n",
    "\n",
    "    filename = os.path.join(checkpoint_dir, 'epoch={}.checkpoint.pth.tar'.format(epoch))\n",
    "    torch.save(state, filename)"
   ]
  },
  {
   "cell_type": "code",
   "execution_count": 23,
   "metadata": {},
   "outputs": [
    {
     "name": "stdout",
     "output_type": "stream",
     "text": [
      "(10000, 70, 48) (10000,)\n",
      "Creating splits\n"
     ]
    },
    {
     "name": "stderr",
     "output_type": "stream",
     "text": [
      "/home/damorgal/anaconda3/lib/python3.7/site-packages/sklearn/model_selection/_split.py:2179: FutureWarning: From version 0.21, test_size will always complement train_size unless both are specified.\n",
      "  FutureWarning)\n"
     ]
    },
    {
     "name": "stdout",
     "output_type": "stream",
     "text": [
      "Feature shape, Label shape, Class balance:\n",
      "\t (8000, 70, 48) (8000,) 0.142875\n",
      "\t (1000, 70, 48) (1000,) 0.143\n",
      "\t (1000, 70, 48) (1000,) 0.143\n",
      "Number of float-valued parameters: 19905\n",
      "Epoch 0\n",
      "tr loss 0.6986264948844909 tr AUROC 0.4987938834465001\n",
      "va loss 0.6986765041947365 va AUROC 0.5280821861918712\n",
      "Epoch 1\n",
      "tr loss 0.33603320133686065 tr AUROC 0.805342765871635\n",
      "va loss 0.3479795977473259 va AUROC 0.7946813979486094\n",
      "Epoch 2\n",
      "tr loss 0.32728422951698305 tr AUROC 0.8204546292585528\n",
      "va loss 0.34095023199915886 va AUROC 0.8083899764179809\n",
      "Epoch 3\n",
      "tr loss 0.3181894894838333 tr AUROC 0.8262332200453943\n",
      "va loss 0.3331550834700465 va AUROC 0.8174066307088477\n",
      "Epoch 4\n",
      "tr loss 0.31389807438850403 tr AUROC 0.8321058453080562\n",
      "va loss 0.33356300462037325 va AUROC 0.8127147065303425\n",
      "Epoch 5\n",
      "tr loss 0.30853068888187407 tr AUROC 0.8369897050749654\n",
      "va loss 0.33323232643306255 va AUROC 0.8173005524230728\n",
      "Epoch 6\n",
      "tr loss 0.3044779715538025 tr AUROC 0.8420634200657832\n",
      "va loss 0.3397516878321767 va AUROC 0.8101525079354717\n",
      "Epoch 7\n",
      "tr loss 0.30131068754196166 tr AUROC 0.8475525071543393\n",
      "va loss 0.3387247771024704 va AUROC 0.81406108477287\n",
      "Epoch 8\n",
      "tr loss 0.2962183908224106 tr AUROC 0.8523943257275136\n",
      "va loss 0.3349969945847988 va AUROC 0.8229063818328693\n",
      "Epoch 9\n",
      "tr loss 0.2923812279701233 tr AUROC 0.8567782844411475\n",
      "va loss 0.3376477314159274 va AUROC 0.8219679969971685\n",
      "Epoch 10\n",
      "tr loss 0.2856764076948166 tr AUROC 0.8641553975214962\n",
      "va loss 0.3408961948007345 va AUROC 0.8137510097836819\n",
      "Epoch 11\n",
      "tr loss 0.28136846017837525 tr AUROC 0.8687868187396802\n",
      "va loss 0.3413535840809345 va AUROC 0.8151708268394383\n",
      "Epoch 12\n",
      "tr loss 0.2735112384557724 tr AUROC 0.8821643393452878\n",
      "va loss 0.3412542697042227 va AUROC 0.8199117102267627\n",
      "Epoch 13\n",
      "tr loss 0.2680443856716156 tr AUROC 0.8829632496171316\n",
      "va loss 0.35735988430678844 va AUROC 0.8237060489102496\n",
      "Epoch 14\n",
      "tr loss 0.25710136771202086 tr AUROC 0.8934100077945266\n",
      "va loss 0.35255353059619665 va AUROC 0.8206542582271872\n",
      "Epoch 15\n",
      "tr loss 0.24788318300247192 tr AUROC 0.9033643289849087\n",
      "va loss 0.3510308964177966 va AUROC 0.8182470971269103\n",
      "Epoch 16\n",
      "tr loss 0.24214339673519134 tr AUROC 0.9131329416548611\n",
      "va loss 0.3519282937049866 va AUROC 0.8108542565952135\n",
      "Epoch 17\n",
      "tr loss 0.2356256812810898 tr AUROC 0.9213816918065348\n",
      "va loss 0.36088084802031517 va AUROC 0.8050933896908227\n",
      "Epoch 18\n",
      "tr loss 0.22246893978118895 tr AUROC 0.9259026193258583\n",
      "va loss 0.3683213135227561 va AUROC 0.8071088771205457\n",
      "Epoch 19\n",
      "tr loss 0.21980927151441573 tr AUROC 0.9258041191693682\n",
      "va loss 0.38287878688424826 va AUROC 0.8145588367291984\n",
      "Epoch 20\n",
      "tr loss 0.20397740316390991 tr AUROC 0.9390551972165795\n",
      "va loss 0.3677171543240547 va AUROC 0.81126225000204\n",
      "Epoch 21\n",
      "tr loss 0.1949824160337448 tr AUROC 0.9425819366279085\n",
      "va loss 0.3836800726130605 va AUROC 0.8137183703111357\n",
      "Epoch 22\n",
      "tr loss 0.18413193726539612 tr AUROC 0.9518903290071096\n",
      "va loss 0.3916869414970279 va AUROC 0.8043508416903983\n",
      "Epoch 23\n",
      "tr loss 0.17433307206630708 tr AUROC 0.9574608190747338\n",
      "va loss 0.3984011374413967 va AUROC 0.8026454292498634\n",
      "Epoch 24\n",
      "tr loss 0.16671829396486282 tr AUROC 0.9624487292012518\n",
      "va loss 0.42508034594357014 va AUROC 0.7879413468678346\n",
      "Epoch 25\n",
      "tr loss 0.15720174279809 tr AUROC 0.9652862226989016\n",
      "va loss 0.44024990033358335 va AUROC 0.795081231487299\n",
      "Epoch 26\n",
      "tr loss 0.14652299857139586 tr AUROC 0.9719814263409577\n",
      "va loss 0.4384720269590616 va AUROC 0.7995446793579815\n",
      "Epoch 27\n",
      "tr loss 0.13841586577892304 tr AUROC 0.9753678157883757\n",
      "va loss 0.4573320159688592 va AUROC 0.7900139533745133\n",
      "Epoch 28\n",
      "tr loss 0.13131136924028397 tr AUROC 0.9779924877043862\n",
      "va loss 0.46648998744785786 va AUROC 0.788961330384901\n",
      "Epoch 29\n",
      "tr loss 0.12406985965371133 tr AUROC 0.979936589886305\n",
      "va loss 0.468647682107985 va AUROC 0.7916540868699562\n",
      "Epoch 30\n",
      "tr loss 0.11106144815683365 tr AUROC 0.9853713870570028\n",
      "va loss 0.4895123289898038 va AUROC 0.7910257770234435\n"
     ]
    },
    {
     "data": {
      "image/png": "[encoded data removed]",
      "text/plain": [
       "<Figure size 360x360 with 1 Axes>"
      ]
     },
     "metadata": {
      "needs_background": "light"
     },
     "output_type": "display_data"
    },
    {
     "data": {
      "image/png": "[encoded data removed]",
      "text/plain": [
       "<Figure size 360x360 with 1 Axes>"
      ]
     },
     "metadata": {
      "needs_background": "light"
     },
     "output_type": "display_data"
    }
   ],
   "source": [
    "tr_loader, va_loader, te_loader = get_train_val_test(batch_size=64)\n",
    "    \n",
    "torch.random.manual_seed(0)\n",
    "np.random.seed(0)\n",
    "random.seed(0)\n",
    "\n",
    "n_epochs = 30\n",
    "learning_rate = 1e-3\n",
    "\n",
    "model = CNN(35*1, 64, 1, 48)\n",
    "print('Number of float-valued parameters:', count_parameters(model))\n",
    "\n",
    "model = model.to(device)\n",
    "criterion = torch.nn.BCELoss()\n",
    "optimizer = torch.optim.Adam(model.parameters(), lr=learning_rate)\n",
    "\n",
    "outputs = []\n",
    "\n",
    "print('Epoch', 0)\n",
    "out = _evaluate_epoch(tr_loader, va_loader, model, criterion)\n",
    "outputs.append(out)\n",
    "\n",
    "for epoch in range(0, n_epochs):\n",
    "    print('Epoch', epoch+1)\n",
    "    # Train model\n",
    "    _train_epoch(tr_loader, model, criterion, optimizer)\n",
    "\n",
    "    # Evaluate model\n",
    "    out = _evaluate_epoch(tr_loader, va_loader, model, criterion)\n",
    "    outputs.append(out)\n",
    "\n",
    "    # Save model parameters\n",
    "    save_checkpoint(model, epoch+1, 'checkpoint/')\n",
    "\n",
    "train_losses, val_losses, train_scores, val_scores = zip(*outputs)\n",
    "\n",
    "fig, ax = plt.subplots(figsize=(5,5))\n",
    "plt.plot(range(n_epochs + 1), train_scores, '--o', label='Train')\n",
    "plt.plot(range(n_epochs + 1), val_scores, '--o', label='Validation')\n",
    "plt.xlabel('epoch')\n",
    "plt.ylabel('AUROC')\n",
    "plt.legend()\n",
    "plt.savefig('auroc_prop_baseline_sq.png', dpi=300)\n",
    "\n",
    "fig, ax = plt.subplots(figsize=(5,5))\n",
    "plt.plot(range(n_epochs + 1), train_losses, '--o', label='Train')\n",
    "plt.plot(range(n_epochs + 1), val_losses, '--o', label='Validation')\n",
    "plt.xlabel('epoch')\n",
    "plt.ylabel('Loss (binary cross entropy)')\n",
    "plt.legend()\n",
    "plt.savefig('loss_prop_baseline_sq.png', dpi=300)\n"
   ]
  },
  {
   "cell_type": "code",
   "execution_count": 24,
   "metadata": {},
   "outputs": [
    {
     "name": "stdout",
     "output_type": "stream",
     "text": [
      "(10000, 70, 48) (10000,)\n",
      "Creating splits\n"
     ]
    },
    {
     "name": "stderr",
     "output_type": "stream",
     "text": [
      "/home/damorgal/anaconda3/lib/python3.7/site-packages/sklearn/model_selection/_split.py:2179: FutureWarning: From version 0.21, test_size will always complement train_size unless both are specified.\n",
      "  FutureWarning)\n"
     ]
    },
    {
     "name": "stdout",
     "output_type": "stream",
     "text": [
      "Feature shape, Label shape, Class balance:\n",
      "\t (8000, 70, 48) (8000,) 0.142875\n",
      "\t (1000, 70, 48) (1000,) 0.143\n",
      "\t (1000, 70, 48) (1000,) 0.143\n",
      "Which epoch to load from? Choose in range [1, 30].\n",
      "8\n",
      "Loading from checkpoint checkpoint/epoch=8.checkpoint.pth.tar\n",
      "=> Successfully restored checkpoint (trained for 8 epochs)\n",
      "Test loss : 0.31518225371837616\n",
      "Test AUROC: 0.8345260340592895\n"
     ]
    }
   ],
   "source": [
    "def restore_checkpoint(model, checkpoint_dir, cuda=False):\n",
    "    \"\"\"\n",
    "    If a checkpoint exists, restores the PyTorch model from the checkpoint.\n",
    "    Returns the model and the current epoch.\n",
    "    \"\"\"\n",
    "    cp_files = [file_ for file_ in os.listdir(checkpoint_dir)\n",
    "        if file_.startswith('epoch=') and file_.endswith('.checkpoint.pth.tar')]\n",
    "\n",
    "    if not cp_files:\n",
    "        print('No saved model parameters found')\n",
    "        if force:\n",
    "            raise Exception(\"Checkpoint not found\")\n",
    "        else:\n",
    "            return model, 0, []\n",
    "    \n",
    "    # Find latest epoch\n",
    "    for i in itertools.count(1):\n",
    "        if 'epoch={}.checkpoint.pth.tar'.format(i) in cp_files:\n",
    "            epoch = i\n",
    "        else:\n",
    "            break\n",
    "\n",
    "    print(\"Which epoch to load from? Choose in range [1, {}].\".format(epoch))\n",
    "    inp_epoch = int(input())\n",
    "    if inp_epoch not in range(1, epoch+1):\n",
    "        raise Exception(\"Invalid epoch number\")\n",
    "\n",
    "    filename = os.path.join(checkpoint_dir,\n",
    "        'epoch={}.checkpoint.pth.tar'.format(inp_epoch))\n",
    "\n",
    "    print(\"Loading from checkpoint {}\".format(filename))\n",
    "    \n",
    "    if cuda:\n",
    "        checkpoint = torch.load(filename)\n",
    "    else:\n",
    "        # Load GPU model on CPU\n",
    "        checkpoint = torch.load(filename,\n",
    "            map_location=lambda storage, loc: storage)\n",
    "\n",
    "    try:\n",
    "        start_epoch = checkpoint['epoch']\n",
    "        model.load_state_dict(checkpoint['state_dict'])\n",
    "        print(\"=> Successfully restored checkpoint (trained for {} epochs)\"\n",
    "            .format(checkpoint['epoch']))\n",
    "    except:\n",
    "        print(\"=> Checkpoint not successfully restored\")\n",
    "        raise\n",
    "\n",
    "    return model, inp_epoch\n",
    "\n",
    "def _evaluate_epoch(data_loader, model, criterion):\n",
    "    model.eval()\n",
    "    with torch.no_grad():\n",
    "        y_true, y_score = [], []\n",
    "        running_loss = []\n",
    "        for X, y in data_loader:\n",
    "            output = model(X)\n",
    "            y_true.append(y.numpy())\n",
    "            y_score.append(output)\n",
    "            running_loss.append(criterion(output, y).item())\n",
    "        y_true, y_score = np.concatenate(y_true), np.concatenate(y_score)\n",
    "    \n",
    "    loss = np.mean(running_loss)\n",
    "    score = metrics.roc_auc_score(y_true, y_score)\n",
    "    return loss, score\n",
    "\n",
    "_, _, te_loader = get_train_val_test(batch_size=64)\n",
    "model = CNN(35*1, 64, 1, 48)\n",
    "model, _ = restore_checkpoint(model, 'checkpoint/')\n",
    "criterion = torch.nn.BCELoss()\n",
    "loss, score = _evaluate_epoch(te_loader, model, criterion)\n",
    "print('Test loss :', loss)\n",
    "print('Test AUROC:', score)"
   ]
  },
  {
   "cell_type": "code",
   "execution_count": null,
   "metadata": {},
   "outputs": [],
   "source": []
  }
 ],
 "metadata": {
  "kernelspec": {
   "display_name": "Python 3",
   "language": "python",
   "name": "python3"
  },
  "language_info": {
   "codemirror_mode": {
    "name": "ipython",
    "version": 3
   },
   "file_extension": ".py",
   "mimetype": "text/x-python",
   "name": "python",
   "nbconvert_exporter": "python",
   "pygments_lexer": "ipython3",
   "version": "3.7.3"
  }
 },
 "nbformat": 4,
 "nbformat_minor": 2
}
