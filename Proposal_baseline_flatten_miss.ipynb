{
 "cells": [
  {
   "cell_type": "markdown",
   "metadata": {},
   "source": [
    "Necesary libraries:"
   ]
  },
  {
   "cell_type": "code",
   "execution_count": 1,
   "metadata": {},
   "outputs": [],
   "source": [
    "import numpy as np\n",
    "import pandas as pd\n",
    "import matplotlib.pyplot as plt\n",
    "import seaborn as sns\n",
    "from tqdm import tqdm\n",
    "import os, time, random\n",
    "import torch\n",
    "from torch.utils.data import Dataset, DataLoader\n",
    "from sklearn.model_selection import train_test_split\n",
    "from sklearn.preprocessing import StandardScaler\n",
    "from sklearn import metrics\n",
    "import itertools"
   ]
  },
  {
   "cell_type": "markdown",
   "metadata": {},
   "source": [
    "Loading the data:"
   ]
  },
  {
   "cell_type": "code",
   "execution_count": null,
   "metadata": {},
   "outputs": [],
   "source": [
    "# Run this just the first time\n",
    "#!pip install -U wget\n",
    "#!rm -rf data.zip data lib\n",
    "#!rm -rf preprocessed\n",
    "!mkdir -p preprocessed\n",
    "!mkdir -p checkpoint\n",
    "!mkdir -p lib\n",
    "\n",
    "import wget\n",
    "wget.download('https://github.com/shengpu1126/BDSI2019-ML/raw/master/lib/config.yaml', 'lib/config.yaml')\n",
    "wget.download('https://github.com/shengpu1126/BDSI2019-ML/raw/master/lib/helper.py', 'lib/helper.py')\n",
    "wget.download('https://github.com/shengpu1126/BDSI2019-ML/raw/master/data.zip', 'data.zip')\n",
    "wget.download('https://github.com/shengpu1126/BDSI2019-ML/raw/master/preprocessed/data_seq.npz', 'preprocessed/data_seq.npz')\n",
    "wget.download('https://github.com/shengpu1126/BDSI2019-ML/raw/master/lib/prepare_data.py', 'lib/prepare_data.py')\n",
    "\n",
    "import zipfile\n",
    "with zipfile.ZipFile(\"data.zip\",\"r\") as zip_ref:\n",
    "    zip_ref.extractall(\".\")"
   ]
  },
  {
   "cell_type": "code",
   "execution_count": 2,
   "metadata": {},
   "outputs": [
    {
     "name": "stderr",
     "output_type": "stream",
     "text": [
      "Loading files from disk: 100%|██████████| 12000/12000 [02:29<00:00, 80.06it/s] \n"
     ]
    }
   ],
   "source": [
    "#Run this to load the data if you have downloaded the data before\n",
    "from lib.helper import load_data\n",
    "raw_data, df_labels = load_data(120000)"
   ]
  },
  {
   "cell_type": "code",
   "execution_count": 3,
   "metadata": {},
   "outputs": [
    {
     "name": "stdout",
     "output_type": "stream",
     "text": [
      "using device: cpu\n"
     ]
    }
   ],
   "source": [
    "# GPU support\n",
    "device = torch.device('cuda' if torch.cuda.is_available() else 'cpu')\n",
    "print('using device:', device)"
   ]
  },
  {
   "cell_type": "markdown",
   "metadata": {},
   "source": [
    "Preparing data:"
   ]
  },
  {
   "cell_type": "code",
   "execution_count": null,
   "metadata": {},
   "outputs": [],
   "source": [
    "%run lib/prepare_data.py"
   ]
  },
  {
   "cell_type": "code",
   "execution_count": 4,
   "metadata": {},
   "outputs": [],
   "source": [
    "class SimpleDataset(Dataset):\n",
    "    def __init__(self, X, y):\n",
    "        self.X, self.y = X, y\n",
    "    def __getitem__(self, idx):\n",
    "        return torch.from_numpy(self.X[idx]).float(), torch.tensor([self.y[idx]]).float()\n",
    "    def __len__(self):\n",
    "        return len(self.X)\n",
    "\n",
    "def get_train_val_test(batch_size=64):\n",
    "    #f = np.load('preprocessed/data_seq.npz')\n",
    "    f = np.load('data/data_nmiss_CF.npz')\n",
    "    f2 = np.load('data/data_miss_CF.npz')\n",
    "    X, y, y2 = f['X'], f['y'], f2['y']\n",
    "    X = np.concatenate((X,f2['X']), axis=2)\n",
    "    X = X.transpose((0,2,1))\n",
    "    print(X.shape, y.shape)\n",
    "    \n",
    "    print('Creating splits')\n",
    "    Xtr, X__, ytr, y__ = train_test_split(X,   y,   train_size=0.8, stratify=y,   random_state=13)\n",
    "    Xva, Xte, yva, yte = train_test_split(X__, y__, test_size=0.5, stratify=y__, random_state=13)\n",
    "    \n",
    "    tr = SimpleDataset(Xtr, ytr)\n",
    "    va = SimpleDataset(Xva, yva)\n",
    "    te = SimpleDataset(Xte, yte)\n",
    "    \n",
    "    tr_loader = DataLoader(tr, batch_size=batch_size, shuffle=True)\n",
    "    va_loader = DataLoader(va, batch_size=batch_size)\n",
    "    te_loader = DataLoader(te, batch_size=batch_size)\n",
    "    \n",
    "    print('Feature shape, Label shape, Class balance:')\n",
    "    print('\\t', tr_loader.dataset.X.shape, tr_loader.dataset.y.shape, tr_loader.dataset.y.mean())\n",
    "    print('\\t', va_loader.dataset.X.shape, va_loader.dataset.y.shape, va_loader.dataset.y.mean())\n",
    "    print('\\t', te_loader.dataset.X.shape, te_loader.dataset.y.shape, te_loader.dataset.y.mean())\n",
    "    return tr_loader, va_loader, te_loader"
   ]
  },
  {
   "cell_type": "code",
   "execution_count": 5,
   "metadata": {},
   "outputs": [
    {
     "name": "stdout",
     "output_type": "stream",
     "text": [
      "(10000, 70, 48) (10000,)\n",
      "Creating splits\n"
     ]
    },
    {
     "name": "stderr",
     "output_type": "stream",
     "text": [
      "/home/damorgal/anaconda3/lib/python3.7/site-packages/sklearn/model_selection/_split.py:2179: FutureWarning: From version 0.21, test_size will always complement train_size unless both are specified.\n",
      "  FutureWarning)\n"
     ]
    },
    {
     "name": "stdout",
     "output_type": "stream",
     "text": [
      "Feature shape, Label shape, Class balance:\n",
      "\t (8000, 70, 48) (8000,) 0.142875\n",
      "\t (1000, 70, 48) (1000,) 0.143\n",
      "\t (1000, 70, 48) (1000,) 0.143\n"
     ]
    }
   ],
   "source": [
    "tr_loader, va_loader, te_loader = get_train_val_test(batch_size=64)"
   ]
  },
  {
   "cell_type": "code",
   "execution_count": 6,
   "metadata": {},
   "outputs": [],
   "source": [
    "import torch.nn as nn\n",
    "import torch.nn.functional as F\n",
    "\n",
    "class CNN(nn.Module):\n",
    "    def __init__(self, in_channels, n_filters, output_size, sequence_len):\n",
    "        super().__init__()\n",
    "        self.n_filters = n_filters\n",
    "        self.conv1 = nn.Conv1d(in_channels, n_filters, 3, padding=1)\n",
    "        self.pool1 = nn.MaxPool1d(2)\n",
    "        self.conv2 = nn.Conv1d(n_filters, n_filters, 3, padding=1)\n",
    "        self.pool2 = nn.MaxPool1d(2)\n",
    "        self.fc = nn.Linear(int(sequence_len/2/2)*n_filters+1680, output_size)\n",
    "\n",
    "    def forward(self, x):\n",
    "        N, d, L = x.shape\n",
    "        xm = 1 - x[:,35:70,:]\n",
    "        x = x[:,:35,:]\n",
    "        #x = torch.Tensor(np.concatenate((x,xd,xt), axis=1))\n",
    "        #ones = np.array([np.array([np.ones(L) for i in range(d)]) for j in range(N)])\n",
    "        #xm = torch.Tensor(np.concatenate((xm,ones,ones), axis=1))\n",
    "        \n",
    "        # Getting the weights for the trained model\n",
    "        z = self.conv1(x)\n",
    "        w = self.conv1.weight\n",
    "        wm = torch.abs(w) / torch.sum(torch.abs(w), dim=(1,2), keepdim=True)\n",
    "        \n",
    "        # Apply the weights to the mask xm\n",
    "        zm = F.conv1d(xm, wm, padding=1)\n",
    "        \n",
    "        # Apply the first set of conv-elu-pool\n",
    "        z = self.pool1(F.elu(zm*z))\n",
    "        \n",
    "        # Apply the second set of conv-elu-pool\n",
    "        z = self.pool2(F.elu(self.conv2(z)))\n",
    "        \n",
    "        # Flatten the output from the convolutional/pooling layers\n",
    "        z = z.view(N, -1)\n",
    "        xm = xm.view(N,-1)\n",
    "        # Add the distance and times of measurements\n",
    "        z = torch.cat((z,xm),1)\n",
    "        z = self.fc(z)\n",
    "        \n",
    "        # Pass through the output layer and apply sigmoid activation\n",
    "        z = torch.sigmoid(z)\n",
    "\n",
    "        return z"
   ]
  },
  {
   "cell_type": "code",
   "execution_count": 7,
   "metadata": {},
   "outputs": [
    {
     "name": "stdout",
     "output_type": "stream",
     "text": [
      "Number of float-valued parameters: 21585\n"
     ]
    }
   ],
   "source": [
    "def count_parameters(model):\n",
    "    return sum(p.numel() for p in model.parameters() if p.requires_grad)\n",
    "\n",
    "model = CNN(35*1, 64, 1, 48)\n",
    "print('Number of float-valued parameters:', count_parameters(model))"
   ]
  },
  {
   "cell_type": "code",
   "execution_count": 8,
   "metadata": {},
   "outputs": [
    {
     "data": {
      "text/plain": [
       "tensor([[0.4361]], grad_fn=<SigmoidBackward>)"
      ]
     },
     "execution_count": 8,
     "metadata": {},
     "output_type": "execute_result"
    }
   ],
   "source": [
    "x = torch.zeros((1, 35*2, 48))\n",
    "model(x)"
   ]
  },
  {
   "cell_type": "markdown",
   "metadata": {},
   "source": [
    "Train the LSTM:"
   ]
  },
  {
   "cell_type": "code",
   "execution_count": 9,
   "metadata": {},
   "outputs": [],
   "source": [
    "def _train_epoch(data_loader, model, criterion, optimizer):\n",
    "    \"\"\"\n",
    "    Train the `model` for one epoch of data from `data_loader`\n",
    "    Use `optimizer` to optimize the specified `criterion`\n",
    "    \"\"\"\n",
    "    model.train()\n",
    "    for i, (X, y) in enumerate(data_loader):\n",
    "        X, y = X.to(device), y.to(device)\n",
    "        \n",
    "        # clear parameter gradients\n",
    "        optimizer.zero_grad()\n",
    "\n",
    "        # forward + backward + optimize\n",
    "        output = model(X)\n",
    "        loss = criterion(output, y)\n",
    "        loss.backward()\n",
    "        optimizer.step()\n",
    "\n",
    "def _evaluate_epoch(tr_loader, va_loader, model, criterion):\n",
    "    model.eval()\n",
    "    with torch.no_grad():\n",
    "        # Evaluate on train\n",
    "        y_true, y_score = [], []\n",
    "        running_loss = []\n",
    "        for X, y in tr_loader:\n",
    "            X, y = X.to(device), y.to(device)\n",
    "            output = model(X)\n",
    "            y_true.append(y.cpu().numpy())\n",
    "            y_score.append(output.cpu().numpy())\n",
    "            running_loss.append(criterion(output, y).item())\n",
    "\n",
    "        y_true, y_score = np.concatenate(y_true), np.concatenate(y_score)\n",
    "        train_loss = np.mean(running_loss)\n",
    "        train_score = metrics.roc_auc_score(y_true, y_score)\n",
    "        print('tr loss', train_loss, 'tr AUROC', train_score)\n",
    "\n",
    "        # Evaluate on validation\n",
    "        y_true, y_score = [], []\n",
    "        running_loss = []\n",
    "        for X, y in va_loader:\n",
    "            X, y = X.to(device), y.to(device)\n",
    "            with torch.no_grad():\n",
    "                output = model(X)\n",
    "                y_true.append(y.cpu().numpy())\n",
    "                y_score.append(output.cpu().numpy())\n",
    "                running_loss.append(criterion(output, y).item())\n",
    "\n",
    "        y_true, y_score = np.concatenate(y_true), np.concatenate(y_score)\n",
    "        val_loss = np.mean(running_loss)\n",
    "        val_score = metrics.roc_auc_score(y_true, y_score)\n",
    "        print('va loss', val_loss, 'va AUROC', val_score)\n",
    "    return train_loss, val_loss, train_score, val_score\n",
    "\n",
    "def save_checkpoint(model, epoch, checkpoint_dir):\n",
    "    state = {\n",
    "        'epoch': epoch,\n",
    "        'state_dict': model.state_dict(),\n",
    "    }\n",
    "\n",
    "    filename = os.path.join(checkpoint_dir, 'epoch={}.checkpoint.pth.tar'.format(epoch))\n",
    "    torch.save(state, filename)"
   ]
  },
  {
   "cell_type": "code",
   "execution_count": 10,
   "metadata": {},
   "outputs": [
    {
     "name": "stdout",
     "output_type": "stream",
     "text": [
      "(10000, 70, 48) (10000,)\n",
      "Creating splits\n"
     ]
    },
    {
     "name": "stderr",
     "output_type": "stream",
     "text": [
      "/home/damorgal/anaconda3/lib/python3.7/site-packages/sklearn/model_selection/_split.py:2179: FutureWarning: From version 0.21, test_size will always complement train_size unless both are specified.\n",
      "  FutureWarning)\n"
     ]
    },
    {
     "name": "stdout",
     "output_type": "stream",
     "text": [
      "Feature shape, Label shape, Class balance:\n",
      "\t (8000, 70, 48) (8000,) 0.142875\n",
      "\t (1000, 70, 48) (1000,) 0.143\n",
      "\t (1000, 70, 48) (1000,) 0.143\n",
      "Number of float-valued parameters: 21585\n",
      "Epoch 0\n",
      "tr loss 0.7011865992546081 tr AUROC 0.47699900134621137\n",
      "va loss 0.7057576142251492 va AUROC 0.47080807174156064\n",
      "Epoch 1\n",
      "tr loss 0.31760324144363405 tr AUROC 0.8273496402128675\n",
      "va loss 0.3279346590861678 va AUROC 0.821192809524198\n",
      "Epoch 2\n",
      "tr loss 0.30838204264640806 tr AUROC 0.8416788611646675\n",
      "va loss 0.3290533246472478 va AUROC 0.8224086298765412\n",
      "Epoch 3\n",
      "tr loss 0.29658098363876345 tr AUROC 0.8534258979622588\n",
      "va loss 0.32429956272244453 va AUROC 0.8256399376586074\n",
      "Epoch 4\n",
      "tr loss 0.2881597434878349 tr AUROC 0.8641289862101058\n",
      "va loss 0.32911306992173195 va AUROC 0.8265456830217623\n",
      "Epoch 5\n",
      "tr loss 0.2848899674415588 tr AUROC 0.8736757183462028\n",
      "va loss 0.3191095842048526 va AUROC 0.8347218708945664\n",
      "Epoch 6\n",
      "tr loss 0.2722750973701477 tr AUROC 0.880073124883015\n",
      "va loss 0.3226778581738472 va AUROC 0.8350809050925736\n",
      "Epoch 7\n",
      "tr loss 0.26597550868988035 tr AUROC 0.8905756402733456\n",
      "va loss 0.32553651090711355 va AUROC 0.8312784065409503\n",
      "Epoch 8\n",
      "tr loss 0.27512530994415285 tr AUROC 0.8881446513075321\n",
      "va loss 0.35266504250466824 va AUROC 0.8332938939706734\n",
      "Epoch 9\n",
      "tr loss 0.2478681290745735 tr AUROC 0.9065070198586268\n",
      "va loss 0.33121790271252394 va AUROC 0.8341914794656917\n",
      "Epoch 10\n",
      "tr loss 0.24683627194166183 tr AUROC 0.9081794810649397\n",
      "va loss 0.3340087905526161 va AUROC 0.8370637530497508\n",
      "Epoch 11\n",
      "tr loss 0.23173225212097168 tr AUROC 0.9194603008005944\n",
      "va loss 0.3377594957128167 va AUROC 0.835407299818035\n",
      "Epoch 12\n",
      "tr loss 0.22367310720682143 tr AUROC 0.9304935942362607\n",
      "va loss 0.34370029997080564 va AUROC 0.8246036344052681\n",
      "Epoch 13\n",
      "tr loss 0.2201966957449913 tr AUROC 0.9324086056983872\n",
      "va loss 0.34810525458306074 va AUROC 0.8300462664523341\n",
      "Epoch 14\n",
      "tr loss 0.2044797520041466 tr AUROC 0.9391677323694608\n",
      "va loss 0.353746953420341 va AUROC 0.8260887304061166\n",
      "Epoch 15\n",
      "tr loss 0.20647974812984465 tr AUROC 0.9523989062399723\n",
      "va loss 0.365412725135684 va AUROC 0.8097608342649184\n",
      "Epoch 16\n",
      "tr loss 0.18371042478084565 tr AUROC 0.9532277365723043\n",
      "va loss 0.36467843782156706 va AUROC 0.8296872322543268\n",
      "Epoch 17\n",
      "tr loss 0.1728579810857773 tr AUROC 0.9594680787404126\n",
      "va loss 0.37305883038789034 va AUROC 0.818149178709272\n",
      "Epoch 18\n",
      "tr loss 0.16051633214950561 tr AUROC 0.9676572439528621\n",
      "va loss 0.3868688214570284 va AUROC 0.8163703274555084\n",
      "Epoch 19\n",
      "tr loss 0.15166648852825165 tr AUROC 0.9711199327442974\n",
      "va loss 0.37833062931895256 va AUROC 0.8248321107130909\n",
      "Epoch 20\n",
      "tr loss 0.14516373473405839 tr AUROC 0.9784007785084907\n",
      "va loss 0.4015573179349303 va AUROC 0.8013398503480184\n",
      "Epoch 21\n",
      "tr loss 0.13490474912524222 tr AUROC 0.9791889073512886\n",
      "va loss 0.41407537274062634 va AUROC 0.8022047963704907\n",
      "Epoch 22\n",
      "tr loss 0.12067538225650787 tr AUROC 0.9842150947406914\n",
      "va loss 0.43139162939041853 va AUROC 0.7996833971163025\n",
      "Epoch 23\n",
      "tr loss 0.11295092678070068 tr AUROC 0.9851226486436898\n",
      "va loss 0.4422021759673953 va AUROC 0.8042774028771695\n",
      "Epoch 24\n",
      "tr loss 0.10307324182987213 tr AUROC 0.9884190865233287\n",
      "va loss 0.44360606651753187 va AUROC 0.8000261115780369\n",
      "Epoch 25\n",
      "tr loss 0.09292571365833283 tr AUROC 0.9913410451810776\n",
      "va loss 0.4847436137497425 va AUROC 0.7964031301254171\n",
      "Epoch 26\n",
      "tr loss 0.08940661437809468 tr AUROC 0.9939857488646644\n",
      "va loss 0.48998378962278366 va AUROC 0.7871824791311371\n",
      "Epoch 27\n",
      "tr loss 0.0756473112553358 tr AUROC 0.9966563534961368\n",
      "va loss 0.4875211175531149 va AUROC 0.7911481750454913\n",
      "Epoch 28\n",
      "tr loss 0.07120233309268952 tr AUROC 0.9971547234588967\n",
      "va loss 0.5127732120454311 va AUROC 0.781323693809108\n",
      "Epoch 29\n",
      "tr loss 0.05909954586625099 tr AUROC 0.9977441933073227\n",
      "va loss 0.5123530216515064 va AUROC 0.7949710732674561\n",
      "Epoch 30\n",
      "tr loss 0.05510183510184288 tr AUROC 0.9981093583952435\n",
      "va loss 0.5463117398321629 va AUROC 0.7933594993104911\n"
     ]
    },
    {
     "data": {
      "image/png": "[encoded data removed]",
      "text/plain": [
       "<Figure size 360x360 with 1 Axes>"
      ]
     },
     "metadata": {
      "needs_background": "light"
     },
     "output_type": "display_data"
    },
    {
     "data": {
      "image/png": "[encoded data removed]",
      "text/plain": [
       "<Figure size 360x360 with 1 Axes>"
      ]
     },
     "metadata": {
      "needs_background": "light"
     },
     "output_type": "display_data"
    }
   ],
   "source": [
    "tr_loader, va_loader, te_loader = get_train_val_test(batch_size=64)\n",
    "    \n",
    "torch.random.manual_seed(0)\n",
    "np.random.seed(0)\n",
    "random.seed(0)\n",
    "\n",
    "n_epochs = 30\n",
    "learning_rate = 1e-3\n",
    "\n",
    "model = CNN(35*1, 64, 1, 48)\n",
    "print('Number of float-valued parameters:', count_parameters(model))\n",
    "\n",
    "model = model.to(device)\n",
    "criterion = torch.nn.BCELoss()\n",
    "optimizer = torch.optim.Adam(model.parameters(), lr=learning_rate)\n",
    "\n",
    "outputs = []\n",
    "\n",
    "print('Epoch', 0)\n",
    "out = _evaluate_epoch(tr_loader, va_loader, model, criterion)\n",
    "outputs.append(out)\n",
    "\n",
    "for epoch in range(0, n_epochs):\n",
    "    print('Epoch', epoch+1)\n",
    "    # Train model\n",
    "    _train_epoch(tr_loader, model, criterion, optimizer)\n",
    "\n",
    "    # Evaluate model\n",
    "    out = _evaluate_epoch(tr_loader, va_loader, model, criterion)\n",
    "    outputs.append(out)\n",
    "\n",
    "    # Save model parameters\n",
    "    save_checkpoint(model, epoch+1, 'checkpoint/')\n",
    "\n",
    "train_losses, val_losses, train_scores, val_scores = zip(*outputs)\n",
    "\n",
    "fig, ax = plt.subplots(figsize=(5,5))\n",
    "plt.plot(range(n_epochs + 1), train_scores, '--o', label='Train')\n",
    "plt.plot(range(n_epochs + 1), val_scores, '--o', label='Validation')\n",
    "plt.xlabel('epoch')\n",
    "plt.ylabel('AUROC')\n",
    "plt.legend()\n",
    "plt.savefig('auroc_prop_baseline_new.png', dpi=300)\n",
    "\n",
    "fig, ax = plt.subplots(figsize=(5,5))\n",
    "plt.plot(range(n_epochs + 1), train_losses, '--o', label='Train')\n",
    "plt.plot(range(n_epochs + 1), val_losses, '--o', label='Validation')\n",
    "plt.xlabel('epoch')\n",
    "plt.ylabel('Loss (binary cross entropy)')\n",
    "plt.legend()\n",
    "plt.savefig('loss_prop_baseline_new.png', dpi=300)\n"
   ]
  },
  {
   "cell_type": "code",
   "execution_count": 20,
   "metadata": {},
   "outputs": [
    {
     "name": "stdout",
     "output_type": "stream",
     "text": [
      "(10000, 70, 48) (10000,)\n",
      "Creating splits\n"
     ]
    },
    {
     "name": "stderr",
     "output_type": "stream",
     "text": [
      "/home/damorgal/anaconda3/lib/python3.7/site-packages/sklearn/model_selection/_split.py:2179: FutureWarning: From version 0.21, test_size will always complement train_size unless both are specified.\n",
      "  FutureWarning)\n"
     ]
    },
    {
     "name": "stdout",
     "output_type": "stream",
     "text": [
      "Feature shape, Label shape, Class balance:\n",
      "\t (8000, 70, 48) (8000,) 0.142875\n",
      "\t (1000, 70, 48) (1000,) 0.143\n",
      "\t (1000, 70, 48) (1000,) 0.143\n",
      "Which epoch to load from? Choose in range [1, 30].\n",
      "4\n",
      "Loading from checkpoint checkpoint/epoch=4.checkpoint.pth.tar\n",
      "=> Successfully restored checkpoint (trained for 4 epochs)\n",
      "Test loss : 0.3144259760156274\n",
      "Test AUROC: 0.8384672503692341\n"
     ]
    }
   ],
   "source": [
    "def restore_checkpoint(model, checkpoint_dir, cuda=False):\n",
    "    \"\"\"\n",
    "    If a checkpoint exists, restores the PyTorch model from the checkpoint.\n",
    "    Returns the model and the current epoch.\n",
    "    \"\"\"\n",
    "    cp_files = [file_ for file_ in os.listdir(checkpoint_dir)\n",
    "        if file_.startswith('epoch=') and file_.endswith('.checkpoint.pth.tar')]\n",
    "\n",
    "    if not cp_files:\n",
    "        print('No saved model parameters found')\n",
    "        if force:\n",
    "            raise Exception(\"Checkpoint not found\")\n",
    "        else:\n",
    "            return model, 0, []\n",
    "    \n",
    "    # Find latest epoch\n",
    "    for i in itertools.count(1):\n",
    "        if 'epoch={}.checkpoint.pth.tar'.format(i) in cp_files:\n",
    "            epoch = i\n",
    "        else:\n",
    "            break\n",
    "\n",
    "    print(\"Which epoch to load from? Choose in range [1, {}].\".format(epoch))\n",
    "    inp_epoch = int(input())\n",
    "    if inp_epoch not in range(1, epoch+1):\n",
    "        raise Exception(\"Invalid epoch number\")\n",
    "\n",
    "    filename = os.path.join(checkpoint_dir,\n",
    "        'epoch={}.checkpoint.pth.tar'.format(inp_epoch))\n",
    "\n",
    "    print(\"Loading from checkpoint {}\".format(filename))\n",
    "    \n",
    "    if cuda:\n",
    "        checkpoint = torch.load(filename)\n",
    "    else:\n",
    "        # Load GPU model on CPU\n",
    "        checkpoint = torch.load(filename,\n",
    "            map_location=lambda storage, loc: storage)\n",
    "\n",
    "    try:\n",
    "        start_epoch = checkpoint['epoch']\n",
    "        model.load_state_dict(checkpoint['state_dict'])\n",
    "        print(\"=> Successfully restored checkpoint (trained for {} epochs)\"\n",
    "            .format(checkpoint['epoch']))\n",
    "    except:\n",
    "        print(\"=> Checkpoint not successfully restored\")\n",
    "        raise\n",
    "\n",
    "    return model, inp_epoch\n",
    "\n",
    "def _evaluate_epoch(data_loader, model, criterion):\n",
    "    model.eval()\n",
    "    with torch.no_grad():\n",
    "        y_true, y_score = [], []\n",
    "        running_loss = []\n",
    "        for X, y in data_loader:\n",
    "            output = model(X)\n",
    "            y_true.append(y.numpy())\n",
    "            y_score.append(output)\n",
    "            running_loss.append(criterion(output, y).item())\n",
    "        y_true, y_score = np.concatenate(y_true), np.concatenate(y_score)\n",
    "    \n",
    "    loss = np.mean(running_loss)\n",
    "    score = metrics.roc_auc_score(y_true, y_score)\n",
    "    return loss, score\n",
    "\n",
    "_, _, te_loader = get_train_val_test(batch_size=64)\n",
    "model = CNN(35*1, 64, 1, 48)\n",
    "model, _ = restore_checkpoint(model, 'checkpoint/')\n",
    "criterion = torch.nn.BCELoss()\n",
    "loss, score = _evaluate_epoch(te_loader, model, criterion)\n",
    "print('Test loss :', loss)\n",
    "print('Test AUROC:', score)"
   ]
  },
  {
   "cell_type": "code",
   "execution_count": null,
   "metadata": {},
   "outputs": [],
   "source": []
  }
 ],
 "metadata": {
  "kernelspec": {
   "display_name": "Python 3",
   "language": "python",
   "name": "python3"
  },
  "language_info": {
   "codemirror_mode": {
    "name": "ipython",
    "version": 3
   },
   "file_extension": ".py",
   "mimetype": "text/x-python",
   "name": "python",
   "nbconvert_exporter": "python",
   "pygments_lexer": "ipython3",
   "version": "3.7.3"
  }
 },
 "nbformat": 4,
 "nbformat_minor": 2
}
