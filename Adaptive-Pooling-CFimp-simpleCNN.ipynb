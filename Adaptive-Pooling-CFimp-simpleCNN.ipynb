{
 "cells": [
  {
   "cell_type": "markdown",
   "metadata": {},
   "source": [
    "**Idea inicial, arquitectura inicial de la CNN y usa carry-forward imputation.**"
   ]
  },
  {
   "cell_type": "markdown",
   "metadata": {},
   "source": [
    "Necesary libraries:"
   ]
  },
  {
   "cell_type": "code",
   "execution_count": 13,
   "metadata": {},
   "outputs": [],
   "source": [
    "import numpy as np\n",
    "import pandas as pd\n",
    "import matplotlib.pyplot as plt\n",
    "import seaborn as sns\n",
    "from tqdm import tqdm\n",
    "import os, time, random\n",
    "import torch\n",
    "from torch.utils.data import Dataset, DataLoader\n",
    "from sklearn.model_selection import train_test_split\n",
    "from sklearn.preprocessing import normalize\n",
    "from sklearn import metrics\n",
    "import itertools\n",
    "from sklearn import preprocessing"
   ]
  },
  {
   "cell_type": "markdown",
   "metadata": {},
   "source": [
    "Loading the data:\n",
    "\n",
    "**Just run the next box to download the data**"
   ]
  },
  {
   "cell_type": "code",
   "execution_count": 27,
   "metadata": {},
   "outputs": [
    {
     "name": "stdout",
     "output_type": "stream",
     "text": [
      "Requirement already up-to-date: wget in /home/damorgal/anaconda3/lib/python3.7/site-packages (3.2)\r\n"
     ]
    }
   ],
   "source": [
    "# Run this just the first time\n",
    "!pip install -U wget\n",
    "!rm -rf data.zip data lib\n",
    "!rm -rf preprocessed\n",
    "!mkdir -p preprocessed\n",
    "!mkdir -p lib\n",
    "\n",
    "import wget\n",
    "wget.download('https://github.com/shengpu1126/BDSI2019-ML/raw/master/lib/config.yaml', 'lib/config.yaml')\n",
    "wget.download('https://github.com/shengpu1126/BDSI2019-ML/raw/master/lib/helper.py', 'lib/helper.py')\n",
    "wget.download('https://github.com/shengpu1126/BDSI2019-ML/raw/master/data.zip', 'data.zip')\n",
    "wget.download('https://github.com/shengpu1126/BDSI2019-ML/raw/master/preprocessed/data_seq.npz', 'preprocessed/data_seq.npz')\n",
    "wget.download('https://github.com/shengpu1126/BDSI2019-ML/raw/master/lib/prepare_data.py', 'lib/prepare_data.py')\n",
    "\n",
    "import zipfile\n",
    "with zipfile.ZipFile(\"data.zip\",\"r\") as zip_ref:\n",
    "    zip_ref.extractall(\".\")"
   ]
  },
  {
   "cell_type": "code",
   "execution_count": 2,
   "metadata": {},
   "outputs": [
    {
     "name": "stderr",
     "output_type": "stream",
     "text": [
      "Loading files from disk: 100%|██████████| 12000/12000 [02:20<00:00, 85.37it/s] \n"
     ]
    }
   ],
   "source": [
    "#Run this to load the data if you have downloaded the data before\n",
    "from lib.helper import load_data\n",
    "raw_data, df_labels = load_data(120000)"
   ]
  },
  {
   "cell_type": "code",
   "execution_count": 25,
   "metadata": {},
   "outputs": [
    {
     "name": "stdout",
     "output_type": "stream",
     "text": [
      "using device: cpu\n"
     ]
    }
   ],
   "source": [
    "# GPU support\n",
    "device = torch.device('cuda' if torch.cuda.is_available() else 'cpu')\n",
    "print('using device:', device)"
   ]
  },
  {
   "cell_type": "markdown",
   "metadata": {},
   "source": [
    "Preparing data:"
   ]
  },
  {
   "cell_type": "code",
   "execution_count": 26,
   "metadata": {},
   "outputs": [
    {
     "name": "stderr",
     "output_type": "stream",
     "text": [
      "/home/damorgal/Documents/BDSI_project/lib/prepare_data_missing.py:9: YAMLLoadWarning: calling yaml.load() without Loader=... is deprecated, as the default Loader is unsafe. Please read https://msg.pyyaml.org/load for full details.\n",
      "  config = yaml.load(open('lib/config.yaml'))\n",
      "Loading files from disk: 100%|██████████| 10000/10000 [01:48<00:00, 91.96it/s]\n",
      "Generating feature vectors: 100%|██████████| 10000/10000 [1:38:48<00:00,  2.26it/s] \n"
     ]
    },
    {
     "name": "stdout",
     "output_type": "stream",
     "text": [
      "(10000, 48, 70) (10000,)\n"
     ]
    }
   ],
   "source": [
    "%run lib/prepare_data_missing.py"
   ]
  },
  {
   "cell_type": "code",
   "execution_count": 29,
   "metadata": {},
   "outputs": [],
   "source": [
    "class SimpleDataset(Dataset):\n",
    "    def __init__(self, X, y):\n",
    "        self.X, self.y = X, y\n",
    "    def __getitem__(self, idx):\n",
    "        return torch.from_numpy(self.X[idx]).float(), torch.tensor([self.y[idx]]).float()\n",
    "    def __len__(self):\n",
    "        return len(self.X)\n",
    "\n",
    "def get_train_val_test(batch_size=64):\n",
    "    #f = np.load('preprocessed/data_seq.npz')\n",
    "    f = np.load('data/data_nmiss_CF.npz')\n",
    "    f2 = np.load('data/data_miss_CF.npz')\n",
    "    X, y = f['X'], f['y']\n",
    "    X = np.concatenate((X,f2['X']), axis=2)\n",
    "    X = X.transpose((0,2,1))\n",
    "    print(X.shape, y.shape)\n",
    "    \n",
    "    print('Creating splits')\n",
    "    Xtr, X__, ytr, y__ = train_test_split(X,   y,   train_size=0.8, stratify=y,   random_state=0)\n",
    "    Xva, Xte, yva, yte = train_test_split(X__, y__, test_size=0.5, stratify=y__, random_state=0)\n",
    "    \n",
    "    tr = SimpleDataset(Xtr, ytr)\n",
    "    va = SimpleDataset(Xva, yva)\n",
    "    te = SimpleDataset(Xte, yte)\n",
    "    \n",
    "    tr_loader = DataLoader(tr, batch_size=batch_size, shuffle=True)\n",
    "    va_loader = DataLoader(va, batch_size=batch_size)\n",
    "    te_loader = DataLoader(te, batch_size=batch_size)\n",
    "    \n",
    "    print('Feature shape, Label shape, Class balance:')\n",
    "    print('\\t', tr_loader.dataset.X.shape, tr_loader.dataset.y.shape, tr_loader.dataset.y.mean())\n",
    "    print('\\t', va_loader.dataset.X.shape, va_loader.dataset.y.shape, va_loader.dataset.y.mean())\n",
    "    print('\\t', te_loader.dataset.X.shape, te_loader.dataset.y.shape, te_loader.dataset.y.mean())\n",
    "    return tr_loader, va_loader, te_loader"
   ]
  },
  {
   "cell_type": "code",
   "execution_count": 30,
   "metadata": {},
   "outputs": [
    {
     "name": "stdout",
     "output_type": "stream",
     "text": [
      "(10000, 70, 48) (10000,)\n",
      "Creating splits\n"
     ]
    },
    {
     "name": "stderr",
     "output_type": "stream",
     "text": [
      "/home/damorgal/anaconda3/lib/python3.7/site-packages/sklearn/model_selection/_split.py:2179: FutureWarning: From version 0.21, test_size will always complement train_size unless both are specified.\n",
      "  FutureWarning)\n"
     ]
    },
    {
     "name": "stdout",
     "output_type": "stream",
     "text": [
      "Feature shape, Label shape, Class balance:\n",
      "\t (8000, 70, 48) (8000,) 0.142875\n",
      "\t (1000, 70, 48) (1000,) 0.143\n",
      "\t (1000, 70, 48) (1000,) 0.143\n"
     ]
    }
   ],
   "source": [
    "tr_loader, va_loader, te_loader = get_train_val_test(batch_size=64)"
   ]
  },
  {
   "cell_type": "code",
   "execution_count": 31,
   "metadata": {},
   "outputs": [],
   "source": [
    "import torch.nn as nn\n",
    "import torch.nn.functional as F\n",
    "\n",
    "class CNN(nn.Module):\n",
    "    def __init__(self, in_channels, n_filters, output_size, sequence_len):\n",
    "        super().__init__()\n",
    "        self.n_filters = n_filters\n",
    "        self.conv1 = nn.Conv1d(in_channels, n_filters, 3, padding=1)\n",
    "        self.pool1 = nn.MaxPool1d(2)\n",
    "        self.conv2 = nn.Conv1d(n_filters, n_filters, 3, padding=1)\n",
    "        self.pool2 = nn.MaxPool1d(2)\n",
    "        self.fc = nn.Linear(int(sequence_len/2/2)*n_filters, output_size)\n",
    "\n",
    "    def forward(self, x):\n",
    "        xm = 1- x[:,35:,:]\n",
    "        x = x[:,:35,:]\n",
    "        N, d, L = x.shape\n",
    "        \n",
    "        # Getting the weights for the trained model\n",
    "        z = self.conv1(x)\n",
    "        w = self.conv1.weight\n",
    "        wm = torch.abs(w) / torch.sum(torch.abs(w), dim=(1,2), keepdim=True)\n",
    "        \n",
    "        # Apply the weights to the mask xm\n",
    "        zm = F.conv1d(xm, wm, padding=1)\n",
    "        \n",
    "        # Apply the first set of conv-elu-pool\n",
    "        z = self.pool1(zm*F.elu(z))\n",
    "        \n",
    "        # Apply the second set of conv-elu-pool\n",
    "        z = self.pool2(F.elu(self.conv2(z)))\n",
    "        \n",
    "        # Flatten the output from the convolutional/pooling layers\n",
    "        z = z.view(N, -1)\n",
    "        z = self.fc(z)\n",
    "        #z = torch.stack(self.fc(z), 1)\n",
    "        \n",
    "        # Pass through the output layer and apply sigmoid activation\n",
    "        z = torch.sigmoid(z)\n",
    "\n",
    "        return z"
   ]
  },
  {
   "cell_type": "code",
   "execution_count": 32,
   "metadata": {},
   "outputs": [
    {
     "name": "stdout",
     "output_type": "stream",
     "text": [
      "Number of float-valued parameters: 19905\n"
     ]
    }
   ],
   "source": [
    "def count_parameters(model):\n",
    "    return sum(p.numel() for p in model.parameters() if p.requires_grad)\n",
    "\n",
    "model = CNN(35, 64, 1, 48)\n",
    "print('Number of float-valued parameters:', count_parameters(model))"
   ]
  },
  {
   "cell_type": "code",
   "execution_count": 33,
   "metadata": {},
   "outputs": [
    {
     "data": {
      "text/plain": [
       "tensor([[0.5154]], grad_fn=<SigmoidBackward>)"
      ]
     },
     "execution_count": 33,
     "metadata": {},
     "output_type": "execute_result"
    }
   ],
   "source": [
    "x = torch.zeros((1, 70, 48))\n",
    "model(x)"
   ]
  },
  {
   "cell_type": "markdown",
   "metadata": {},
   "source": [
    "Train the LSTM:"
   ]
  },
  {
   "cell_type": "code",
   "execution_count": 34,
   "metadata": {},
   "outputs": [],
   "source": [
    "def _train_epoch(data_loader, model, criterion, optimizer):\n",
    "    \"\"\"\n",
    "    Train the `model` for one epoch of data from `data_loader`\n",
    "    Use `optimizer` to optimize the specified `criterion`\n",
    "    \"\"\"\n",
    "    model.train()\n",
    "    for i, (X, y) in enumerate(data_loader):\n",
    "        X, y = X.to(device), y.to(device)\n",
    "        \n",
    "        # clear parameter gradients\n",
    "        optimizer.zero_grad()\n",
    "\n",
    "        # forward + backward + optimize\n",
    "        output = model(X)\n",
    "        loss = criterion(output, y)\n",
    "        loss.backward()\n",
    "        optimizer.step()\n",
    "\n",
    "def _evaluate_epoch(tr_loader, va_loader, model, criterion):\n",
    "    model.eval()\n",
    "    with torch.no_grad():\n",
    "        # Evaluate on train\n",
    "        y_true, y_score = [], []\n",
    "        running_loss = []\n",
    "        for X, y in tr_loader:\n",
    "            X, y = X.to(device), y.to(device)\n",
    "            output = model(X)\n",
    "            y_true.append(y.cpu().numpy())\n",
    "            y_score.append(output.cpu().numpy())\n",
    "            running_loss.append(criterion(output, y).item())\n",
    "\n",
    "        y_true, y_score = np.concatenate(y_true), np.concatenate(y_score)\n",
    "        train_loss = np.mean(running_loss)\n",
    "        train_score = metrics.roc_auc_score(y_true, y_score)\n",
    "        print('tr loss', train_loss, 'tr AUROC', train_score)\n",
    "\n",
    "        # Evaluate on validation\n",
    "        y_true, y_score = [], []\n",
    "        running_loss = []\n",
    "        for X, y in va_loader:\n",
    "            X, y = X.to(device), y.to(device)\n",
    "            with torch.no_grad():\n",
    "                output = model(X)\n",
    "                y_true.append(y.cpu().numpy())\n",
    "                y_score.append(output.cpu().numpy())\n",
    "                running_loss.append(criterion(output, y).item())\n",
    "\n",
    "        y_true, y_score = np.concatenate(y_true), np.concatenate(y_score)\n",
    "        val_loss = np.mean(running_loss)\n",
    "        val_score = metrics.roc_auc_score(y_true, y_score)\n",
    "        print('va loss', val_loss, 'va AUROC', val_score)\n",
    "    return train_loss, val_loss, train_score, val_score\n",
    "\n",
    "def save_checkpoint(model, epoch, checkpoint_dir):\n",
    "    state = {\n",
    "        'epoch': epoch,\n",
    "        'state_dict': model.state_dict(),\n",
    "    }\n",
    "\n",
    "    filename = os.path.join(checkpoint_dir, 'epoch={}.checkpoint.pth.tar'.format(epoch))\n",
    "    torch.save(state, filename)"
   ]
  },
  {
   "cell_type": "code",
   "execution_count": 36,
   "metadata": {},
   "outputs": [
    {
     "name": "stdout",
     "output_type": "stream",
     "text": [
      "(10000, 70, 48) (10000,)\n",
      "Creating splits\n"
     ]
    },
    {
     "name": "stderr",
     "output_type": "stream",
     "text": [
      "/home/damorgal/anaconda3/lib/python3.7/site-packages/sklearn/model_selection/_split.py:2179: FutureWarning: From version 0.21, test_size will always complement train_size unless both are specified.\n",
      "  FutureWarning)\n"
     ]
    },
    {
     "name": "stdout",
     "output_type": "stream",
     "text": [
      "Feature shape, Label shape, Class balance:\n",
      "\t (8000, 70, 48) (8000,) 0.142875\n",
      "\t (1000, 70, 48) (1000,) 0.143\n",
      "\t (1000, 70, 48) (1000,) 0.143\n",
      "Number of float-valued parameters: 19905\n",
      "Epoch 0\n",
      "tr loss 0.699132472038269 tr AUROC 0.49337120740904905\n",
      "va loss 0.6994039826095104 va AUROC 0.5212278969571853\n",
      "Epoch 1\n",
      "tr loss 0.32360550796985627 tr AUROC 0.8235511960304945\n",
      "va loss 0.32985479570925236 va AUROC 0.8210622516340137\n",
      "Epoch 2\n",
      "tr loss 0.3128895387649536 tr AUROC 0.8336077175127791\n",
      "va loss 0.31915430165827274 va AUROC 0.8294097967376848\n",
      "Epoch 3\n",
      "tr loss 0.3053158003091812 tr AUROC 0.8422941681655404\n",
      "va loss 0.31653602980077267 va AUROC 0.8281205375721129\n",
      "Epoch 4\n",
      "tr loss 0.30114250910282137 tr AUROC 0.8472553480034771\n",
      "va loss 0.32006348948925734 va AUROC 0.8287651671548988\n",
      "Epoch 5\n",
      "tr loss 0.29318221139907835 tr AUROC 0.8563060068125873\n",
      "va loss 0.31373648438602686 va AUROC 0.8345260340592897\n",
      "Epoch 6\n",
      "tr loss 0.2891388069391251 tr AUROC 0.8616237393542957\n",
      "va loss 0.3162547526881099 va AUROC 0.8297443513312825\n",
      "Epoch 7\n",
      "tr loss 0.2829866533279419 tr AUROC 0.86752819854059\n",
      "va loss 0.32094613555818796 va AUROC 0.8334897308059502\n",
      "Epoch 8\n",
      "tr loss 0.2747555557489395 tr AUROC 0.8787363552722017\n",
      "va loss 0.3128364020958543 va AUROC 0.8330001387177582\n",
      "Epoch 9\n",
      "tr loss 0.268634659409523 tr AUROC 0.8828574129852552\n",
      "va loss 0.3154639396816492 va AUROC 0.833195975553035\n",
      "Epoch 10\n",
      "tr loss 0.26143087732791903 tr AUROC 0.893204395097397\n",
      "va loss 0.3214048305526376 va AUROC 0.8227431844701389\n",
      "Epoch 11\n",
      "tr loss 0.2495111038684845 tr AUROC 0.9016806397814829\n",
      "va loss 0.32195167522877455 va AUROC 0.8202789042929065\n",
      "Epoch 12\n",
      "tr loss 0.24464264303445815 tr AUROC 0.9035634983427858\n",
      "va loss 0.3215830121189356 va AUROC 0.8244485969106738\n",
      "Epoch 13\n",
      "tr loss 0.2359478565454483 tr AUROC 0.9122038886892092\n",
      "va loss 0.33093495573848486 va AUROC 0.8289283645176293\n",
      "Epoch 14\n",
      "tr loss 0.22894784647226335 tr AUROC 0.9188462059130461\n",
      "va loss 0.3372521447017789 va AUROC 0.8223515107995855\n",
      "Epoch 15\n",
      "tr loss 0.21451726549863814 tr AUROC 0.9284465262171818\n",
      "va loss 0.34214279148727655 va AUROC 0.8153013847296227\n",
      "Epoch 16\n",
      "tr loss 0.19712213778495788 tr AUROC 0.9436836838446091\n",
      "va loss 0.342131145298481 va AUROC 0.8111561717162651\n",
      "Epoch 17\n",
      "tr loss 0.18714002120494844 tr AUROC 0.9495407430203643\n",
      "va loss 0.35637843888252974 va AUROC 0.8072475948788667\n",
      "Epoch 18\n",
      "tr loss 0.17639094352722168 tr AUROC 0.9570799603090302\n",
      "va loss 0.37477358616888523 va AUROC 0.7927801486727974\n",
      "Epoch 19\n",
      "tr loss 0.16638443002104758 tr AUROC 0.960887399648181\n",
      "va loss 0.3727006781846285 va AUROC 0.8086837316708961\n",
      "Epoch 20\n",
      "tr loss 0.15735550132393836 tr AUROC 0.9687082100008026\n",
      "va loss 0.39410754572600126 va AUROC 0.7891653270883142\n",
      "Epoch 21\n",
      "tr loss 0.14721284306049348 tr AUROC 0.9702659670093375\n",
      "va loss 0.41923763044178486 va AUROC 0.7937511729810446\n",
      "Epoch 22\n",
      "tr loss 0.1314256082177162 tr AUROC 0.9785272210668867\n",
      "va loss 0.41146503761410713 va AUROC 0.7927230295958418\n",
      "Epoch 23\n",
      "tr loss 0.12364009073376656 tr AUROC 0.9822408811119699\n",
      "va loss 0.44703388027846813 va AUROC 0.7836900555687021\n",
      "Epoch 24\n",
      "tr loss 0.11604029616713524 tr AUROC 0.983231369084552\n",
      "va loss 0.46657516062259674 va AUROC 0.781046258292466\n",
      "Epoch 25\n",
      "tr loss 0.10829960687458515 tr AUROC 0.9841708207066212\n",
      "va loss 0.48348841816186905 va AUROC 0.8009155372049186\n",
      "Epoch 26\n",
      "tr loss 0.09396391701698303 tr AUROC 0.9902890584061272\n",
      "va loss 0.48634418472647667 va AUROC 0.7805158668635915\n",
      "Epoch 27\n",
      "tr loss 0.09004970073699951 tr AUROC 0.9913476799066443\n",
      "va loss 0.5165764596313238 va AUROC 0.7741511697170973\n",
      "Epoch 28\n",
      "tr loss 0.08050918252766133 tr AUROC 0.9945148682286087\n",
      "va loss 0.5658057369291782 va AUROC 0.7629803102381866\n",
      "Epoch 29\n",
      "tr loss 0.07651952758431435 tr AUROC 0.995172216423217\n",
      "va loss 0.5721909459680319 va AUROC 0.7524051211332424\n",
      "Epoch 30\n",
      "tr loss 0.06460302746295929 tr AUROC 0.9965600223845433\n",
      "va loss 0.5782874412834644 va AUROC 0.7666685706358985\n"
     ]
    },
    {
     "data": {
      "image/png": "[encoded data removed]",
      "text/plain": [
       "<Figure size 360x360 with 1 Axes>"
      ]
     },
     "metadata": {
      "needs_background": "light"
     },
     "output_type": "display_data"
    },
    {
     "data": {
      "image/png": "[encoded data removed]",
      "text/plain": [
       "<Figure size 360x360 with 1 Axes>"
      ]
     },
     "metadata": {
      "needs_background": "light"
     },
     "output_type": "display_data"
    }
   ],
   "source": [
    "#!mkdir -p checkpoint\n",
    "\n",
    "tr_loader, va_loader, te_loader = get_train_val_test(batch_size=64)\n",
    "    \n",
    "torch.random.manual_seed(0)\n",
    "np.random.seed(0)\n",
    "random.seed(0)\n",
    "\n",
    "n_epochs = 30\n",
    "learning_rate = 1e-3\n",
    "\n",
    "model = CNN(35, 64, 1, 48)\n",
    "print('Number of float-valued parameters:', count_parameters(model))\n",
    "\n",
    "model = model.to(device)\n",
    "criterion = torch.nn.BCELoss()\n",
    "optimizer = torch.optim.Adam(model.parameters(), lr=learning_rate)\n",
    "\n",
    "outputs = []\n",
    "\n",
    "print('Epoch', 0)\n",
    "out = _evaluate_epoch(tr_loader, va_loader, model, criterion)\n",
    "outputs.append(out)\n",
    "\n",
    "for epoch in range(0, n_epochs):\n",
    "    print('Epoch', epoch+1)\n",
    "    # Train model\n",
    "    _train_epoch(tr_loader, model, criterion, optimizer)\n",
    "\n",
    "    # Evaluate model\n",
    "    out = _evaluate_epoch(tr_loader, va_loader, model, criterion)\n",
    "    outputs.append(out)\n",
    "\n",
    "    # Save model parameters\n",
    "    save_checkpoint(model, epoch+1, 'checkpoint/')\n",
    "\n",
    "train_losses, val_losses, train_scores, val_scores = zip(*outputs)\n",
    "\n",
    "fig, ax = plt.subplots(figsize=(5,5))\n",
    "plt.plot(range(n_epochs + 1), train_scores, '--o', label='Train')\n",
    "plt.plot(range(n_epochs + 1), val_scores, '--o', label='Validation')\n",
    "plt.xlabel('epoch')\n",
    "plt.ylabel('AUROC')\n",
    "plt.legend()\n",
    "plt.savefig('auroc_nmiss.png', dpi=300)\n",
    "\n",
    "fig, ax = plt.subplots(figsize=(5,5))\n",
    "plt.plot(range(n_epochs + 1), train_losses, '--o', label='Train')\n",
    "plt.plot(range(n_epochs + 1), val_losses, '--o', label='Validation')\n",
    "plt.xlabel('epoch')\n",
    "plt.ylabel('Loss (binary cross entropy)')\n",
    "plt.legend()\n",
    "plt.savefig('loss_nmiss.png', dpi=300)\n"
   ]
  },
  {
   "cell_type": "code",
   "execution_count": null,
   "metadata": {},
   "outputs": [],
   "source": []
  },
  {
   "cell_type": "code",
   "execution_count": null,
   "metadata": {},
   "outputs": [],
   "source": []
  }
 ],
 "metadata": {
  "kernelspec": {
   "display_name": "Python 3",
   "language": "python",
   "name": "python3"
  },
  "language_info": {
   "codemirror_mode": {
    "name": "ipython",
    "version": 3
   },
   "file_extension": ".py",
   "mimetype": "text/x-python",
   "name": "python",
   "nbconvert_exporter": "python",
   "pygments_lexer": "ipython3",
   "version": "3.7.3"
  }
 },
 "nbformat": 4,
 "nbformat_minor": 2
}
