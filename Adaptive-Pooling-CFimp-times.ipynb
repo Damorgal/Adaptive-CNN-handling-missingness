{
 "cells": [
  {
   "cell_type": "markdown",
   "metadata": {},
   "source": [
    "**Idea inicial, arquitectura inicial de la CNN y usa carry-forward imputation, mas cantidad de mediciones en cada intervalo**"
   ]
  },
  {
   "cell_type": "markdown",
   "metadata": {},
   "source": [
    "Necesary libraries:"
   ]
  },
  {
   "cell_type": "code",
   "execution_count": 1,
   "metadata": {},
   "outputs": [],
   "source": [
    "import numpy as np\n",
    "import pandas as pd\n",
    "import matplotlib.pyplot as plt\n",
    "import seaborn as sns\n",
    "from tqdm import tqdm\n",
    "import os, time, random\n",
    "import torch\n",
    "from torch.utils.data import Dataset, DataLoader\n",
    "from sklearn.model_selection import train_test_split\n",
    "from sklearn.preprocessing import normalize\n",
    "from sklearn import metrics\n",
    "import itertools\n",
    "from sklearn import preprocessing"
   ]
  },
  {
   "cell_type": "markdown",
   "metadata": {},
   "source": [
    "Loading the data:\n",
    "\n",
    "**Just run the next box to download the data**"
   ]
  },
  {
   "cell_type": "code",
   "execution_count": 27,
   "metadata": {},
   "outputs": [
    {
     "name": "stdout",
     "output_type": "stream",
     "text": [
      "Requirement already up-to-date: wget in /home/damorgal/anaconda3/lib/python3.7/site-packages (3.2)\r\n"
     ]
    }
   ],
   "source": [
    "# Run this just the first time\n",
    "#!pip install -U wget\n",
    "#!rm -rf data.zip data lib\n",
    "#!rm -rf preprocessed\n",
    "!mkdir -p preprocessed\n",
    "!mkdir -p lib\n",
    "\n",
    "import wget\n",
    "wget.download('https://github.com/shengpu1126/BDSI2019-ML/raw/master/lib/config.yaml', 'lib/config.yaml')\n",
    "wget.download('https://github.com/shengpu1126/BDSI2019-ML/raw/master/lib/helper.py', 'lib/helper.py')\n",
    "wget.download('https://github.com/shengpu1126/BDSI2019-ML/raw/master/data.zip', 'data.zip')\n",
    "wget.download('https://github.com/shengpu1126/BDSI2019-ML/raw/master/preprocessed/data_seq.npz', 'preprocessed/data_seq.npz')\n",
    "wget.download('https://github.com/shengpu1126/BDSI2019-ML/raw/master/lib/prepare_data.py', 'lib/prepare_data.py')\n",
    "\n",
    "import zipfile\n",
    "with zipfile.ZipFile(\"data.zip\",\"r\") as zip_ref:\n",
    "    zip_ref.extractall(\".\")"
   ]
  },
  {
   "cell_type": "code",
   "execution_count": 2,
   "metadata": {},
   "outputs": [
    {
     "name": "stderr",
     "output_type": "stream",
     "text": [
      "Loading files from disk: 100%|██████████| 12000/12000 [02:29<00:00, 80.39it/s] \n"
     ]
    }
   ],
   "source": [
    "#Run this to load the data if you have downloaded the data before\n",
    "from lib.helper import load_data\n",
    "raw_data, df_labels = load_data(120000)"
   ]
  },
  {
   "cell_type": "code",
   "execution_count": 3,
   "metadata": {},
   "outputs": [
    {
     "name": "stdout",
     "output_type": "stream",
     "text": [
      "using device: cpu\n"
     ]
    }
   ],
   "source": [
    "# GPU support\n",
    "device = torch.device('cuda' if torch.cuda.is_available() else 'cpu')\n",
    "print('using device:', device)"
   ]
  },
  {
   "cell_type": "markdown",
   "metadata": {},
   "source": [
    "Preparing data:"
   ]
  },
  {
   "cell_type": "code",
   "execution_count": 4,
   "metadata": {},
   "outputs": [
    {
     "name": "stderr",
     "output_type": "stream",
     "text": [
      "/home/damorgal/Documents/BDSI_project/lib/prepare_data_CF_timedist.py:9: YAMLLoadWarning: calling yaml.load() without Loader=... is deprecated, as the default Loader is unsafe. Please read https://msg.pyyaml.org/load for full details.\n",
      "  config = yaml.load(open('lib/config.yaml'))\n",
      "Loading files from disk: 100%|██████████| 10000/10000 [00:17<00:00, 575.43it/s]\n",
      "Generating feature vectors: 100%|██████████| 10000/10000 [1:38:02<00:00,  1.66it/s] \n"
     ]
    },
    {
     "name": "stdout",
     "output_type": "stream",
     "text": [
      "(10000, 48, 70) (10000,)\n"
     ]
    }
   ],
   "source": [
    "%run lib/prepare_data_CF_timedist.py"
   ]
  },
  {
   "cell_type": "code",
   "execution_count": 6,
   "metadata": {},
   "outputs": [],
   "source": [
    "class SimpleDataset(Dataset):\n",
    "    def __init__(self, X, y):\n",
    "        self.X, self.y = X, y\n",
    "    def __getitem__(self, idx):\n",
    "        return torch.from_numpy(self.X[idx]).float(), torch.tensor([self.y[idx]]).float()\n",
    "    def __len__(self):\n",
    "        return len(self.X)\n",
    "\n",
    "def get_train_val_test(batch_size=64):\n",
    "    #f = np.load('preprocessed/data_seq.npz')\n",
    "    f = np.load('data/data_nmiss_CF.npz')\n",
    "    f2 = np.load('data/data_miss_CF.npz')\n",
    "    f3 = np.load('data/data_times_backw_neg.npz')\n",
    "    X, y = f['X'], f['y']\n",
    "    X = np.concatenate((X,f2['X'],f3['X']), axis=2)\n",
    "    X = X.transpose((0,2,1))\n",
    "    print(X.shape, y.shape)\n",
    "    \n",
    "    print('Creating splits')\n",
    "    Xtr, X__, ytr, y__ = train_test_split(X,   y,   train_size=0.8, stratify=y,   random_state=0)\n",
    "    Xva, Xte, yva, yte = train_test_split(X__, y__, test_size=0.5, stratify=y__, random_state=0)\n",
    "    \n",
    "    tr = SimpleDataset(Xtr, ytr)\n",
    "    va = SimpleDataset(Xva, yva)\n",
    "    te = SimpleDataset(Xte, yte)\n",
    "    \n",
    "    tr_loader = DataLoader(tr, batch_size=batch_size, shuffle=True)\n",
    "    va_loader = DataLoader(va, batch_size=batch_size)\n",
    "    te_loader = DataLoader(te, batch_size=batch_size)\n",
    "    \n",
    "    print('Feature shape, Label shape, Class balance:')\n",
    "    print('\\t', tr_loader.dataset.X.shape, tr_loader.dataset.y.shape, tr_loader.dataset.y.mean())\n",
    "    print('\\t', va_loader.dataset.X.shape, va_loader.dataset.y.shape, va_loader.dataset.y.mean())\n",
    "    print('\\t', te_loader.dataset.X.shape, te_loader.dataset.y.shape, te_loader.dataset.y.mean())\n",
    "    return tr_loader, va_loader, te_loader"
   ]
  },
  {
   "cell_type": "code",
   "execution_count": 7,
   "metadata": {},
   "outputs": [
    {
     "name": "stdout",
     "output_type": "stream",
     "text": [
      "(10000, 105, 48) (10000,)\n",
      "Creating splits\n"
     ]
    },
    {
     "name": "stderr",
     "output_type": "stream",
     "text": [
      "/home/damorgal/anaconda3/lib/python3.7/site-packages/sklearn/model_selection/_split.py:2179: FutureWarning: From version 0.21, test_size will always complement train_size unless both are specified.\n",
      "  FutureWarning)\n"
     ]
    },
    {
     "name": "stdout",
     "output_type": "stream",
     "text": [
      "Feature shape, Label shape, Class balance:\n",
      "\t (8000, 105, 48) (8000,) 0.142875\n",
      "\t (1000, 105, 48) (1000,) 0.143\n",
      "\t (1000, 105, 48) (1000,) 0.143\n"
     ]
    }
   ],
   "source": [
    "tr_loader, va_loader, te_loader = get_train_val_test(batch_size=64)"
   ]
  },
  {
   "cell_type": "code",
   "execution_count": 8,
   "metadata": {},
   "outputs": [],
   "source": [
    "import torch.nn as nn\n",
    "import torch.nn.functional as F\n",
    "\n",
    "class CNN(nn.Module):\n",
    "    def __init__(self, in_channels, n_filters, output_size, sequence_len):\n",
    "        super().__init__()\n",
    "        self.n_filters = n_filters\n",
    "        self.conv1 = nn.Conv1d(in_channels, n_filters, 3, padding=1)\n",
    "        self.pool1 = nn.MaxPool1d(2)\n",
    "        self.conv2 = nn.Conv1d(n_filters, n_filters, 3, padding=1)\n",
    "        self.pool2 = nn.MaxPool1d(2)\n",
    "        self.fc = nn.Linear(int(sequence_len/2/2)*n_filters, output_size)\n",
    "\n",
    "    def forward(self, x):\n",
    "        xm = 1 - x[:,35:70,:]\n",
    "        xt = x[:,70:,:]\n",
    "        x = x[:,:35,:]\n",
    "        N, d, L = x.shape\n",
    "        x = torch.Tensor(np.concatenate((x,xt), axis=1))\n",
    "        ones = np.array([np.array([np.ones(L) for i in range(d)]) for j in range(N)])\n",
    "        xm = torch.Tensor(np.concatenate((xm,ones), axis=1))\n",
    "        \n",
    "        # Getting the weights for the trained model\n",
    "        z = self.conv1(x)\n",
    "        w = self.conv1.weight\n",
    "        wm = torch.abs(w) / torch.sum(torch.abs(w), dim=(1,2), keepdim=True)\n",
    "        \n",
    "        # Apply the weights to the mask xm\n",
    "        zm = F.conv1d(xm, wm, padding=1)\n",
    "        \n",
    "        # Apply the first set of conv-elu-pool\n",
    "        z = self.pool1(zm*F.elu(z))\n",
    "        \n",
    "        # Apply the second set of conv-elu-pool\n",
    "        z = self.pool2(F.elu(self.conv2(z)))\n",
    "        \n",
    "        # Flatten the output from the convolutional/pooling layers\n",
    "        z = z.view(N, -1)\n",
    "        z = self.fc(z)\n",
    "        #z = torch.stack(self.fc(z), 1)\n",
    "        \n",
    "        # Pass through the output layer and apply sigmoid activation\n",
    "        z = torch.sigmoid(z)\n",
    "\n",
    "        return z"
   ]
  },
  {
   "cell_type": "code",
   "execution_count": 9,
   "metadata": {},
   "outputs": [
    {
     "name": "stdout",
     "output_type": "stream",
     "text": [
      "Number of float-valued parameters: 26625\n"
     ]
    }
   ],
   "source": [
    "def count_parameters(model):\n",
    "    return sum(p.numel() for p in model.parameters() if p.requires_grad)\n",
    "\n",
    "model = CNN(70, 64, 1, 48)\n",
    "print('Number of float-valued parameters:', count_parameters(model))"
   ]
  },
  {
   "cell_type": "code",
   "execution_count": 10,
   "metadata": {},
   "outputs": [
    {
     "data": {
      "text/plain": [
       "tensor([[0.4947]], grad_fn=<SigmoidBackward>)"
      ]
     },
     "execution_count": 10,
     "metadata": {},
     "output_type": "execute_result"
    }
   ],
   "source": [
    "x = torch.zeros((1, 35*3, 48))\n",
    "model(x)"
   ]
  },
  {
   "cell_type": "markdown",
   "metadata": {},
   "source": [
    "Train the LSTM:"
   ]
  },
  {
   "cell_type": "code",
   "execution_count": 19,
   "metadata": {},
   "outputs": [],
   "source": [
    "def _train_epoch(data_loader, model, criterion, optimizer):\n",
    "    \"\"\"\n",
    "    Train the `model` for one epoch of data from `data_loader`\n",
    "    Use `optimizer` to optimize the specified `criterion`\n",
    "    \"\"\"\n",
    "    model.train()\n",
    "    for i, (X, y) in enumerate(data_loader):\n",
    "        X, y = X.to(device), y.to(device)\n",
    "        \n",
    "        # clear parameter gradients\n",
    "        optimizer.zero_grad()\n",
    "\n",
    "        # forward + backward + optimize\n",
    "        output = model(X)\n",
    "        loss = criterion(output, y)\n",
    "        loss.backward()\n",
    "        optimizer.step()\n",
    "\n",
    "def _evaluate_epoch(tr_loader, va_loader, model, criterion):\n",
    "    model.eval()\n",
    "    with torch.no_grad():\n",
    "        # Evaluate on train\n",
    "        y_true, y_score = [], []\n",
    "        running_loss = []\n",
    "        for X, y in tr_loader:\n",
    "            X, y = X.to(device), y.to(device)\n",
    "            output = model(X)\n",
    "            y_true.append(y.cpu().numpy())\n",
    "            y_score.append(output.cpu().numpy())\n",
    "            running_loss.append(criterion(output, y).item())\n",
    "\n",
    "        y_true, y_score = np.concatenate(y_true), np.concatenate(y_score)\n",
    "        train_loss = np.mean(running_loss)\n",
    "        train_score = metrics.roc_auc_score(y_true, y_score)\n",
    "        print('tr loss', train_loss, 'tr AUROC', train_score)\n",
    "\n",
    "        # Evaluate on validation\n",
    "        y_true, y_score = [], []\n",
    "        running_loss = []\n",
    "        for X, y in va_loader:\n",
    "            X, y = X.to(device), y.to(device)\n",
    "            with torch.no_grad():\n",
    "                output = model(X)\n",
    "                y_true.append(y.cpu().numpy())\n",
    "                y_score.append(output.cpu().numpy())\n",
    "                running_loss.append(criterion(output, y).item())\n",
    "\n",
    "        y_true, y_score = np.concatenate(y_true), np.concatenate(y_score)\n",
    "        val_loss = np.mean(running_loss)\n",
    "        val_score = metrics.roc_auc_score(y_true, y_score)\n",
    "        print('va loss', val_loss, 'va AUROC', val_score)\n",
    "    return train_loss, val_loss, train_score, val_score\n",
    "\n",
    "def save_checkpoint(model, epoch, checkpoint_dir):\n",
    "    state = {\n",
    "        'epoch': epoch,\n",
    "        'state_dict': model.state_dict(),\n",
    "    }\n",
    "\n",
    "    filename = os.path.join(checkpoint_dir, 'epoch={}.checkpoint.pth.tar'.format(epoch))\n",
    "    torch.save(state, filename)"
   ]
  },
  {
   "cell_type": "code",
   "execution_count": 20,
   "metadata": {},
   "outputs": [
    {
     "name": "stdout",
     "output_type": "stream",
     "text": [
      "(10000, 105, 48) (10000,)\n",
      "Creating splits\n"
     ]
    },
    {
     "name": "stderr",
     "output_type": "stream",
     "text": [
      "/home/damorgal/anaconda3/lib/python3.7/site-packages/sklearn/model_selection/_split.py:2179: FutureWarning: From version 0.21, test_size will always complement train_size unless both are specified.\n",
      "  FutureWarning)\n"
     ]
    },
    {
     "name": "stdout",
     "output_type": "stream",
     "text": [
      "Feature shape, Label shape, Class balance:\n",
      "\t (8000, 105, 48) (8000,) 0.142875\n",
      "\t (1000, 105, 48) (1000,) 0.143\n",
      "\t (1000, 105, 48) (1000,) 0.143\n",
      "Number of float-valued parameters: 26625\n",
      "Epoch 0\n",
      "tr loss 0.7126117811203003 tr AUROC 0.5315454406612474\n",
      "va loss 0.7125574350357056 va AUROC 0.5509053373697481\n",
      "Epoch 1\n",
      "tr loss 0.31723408901691436 tr AUROC 0.8309158052049678\n",
      "va loss 0.321389339864254 va AUROC 0.825509379768423\n",
      "Epoch 2\n",
      "tr loss 0.3024024496078491 tr AUROC 0.8461934091401766\n",
      "va loss 0.30978959519416094 va AUROC 0.8421473508988095\n",
      "Epoch 3\n",
      "tr loss 0.2896795248389244 tr AUROC 0.8598927139357689\n",
      "va loss 0.3059767410159111 va AUROC 0.8419596739316692\n",
      "Epoch 4\n",
      "tr loss 0.27842208909988403 tr AUROC 0.875270604299736\n",
      "va loss 0.3074500663205981 va AUROC 0.8428327798222781\n",
      "Epoch 5\n",
      "tr loss 0.2635699814558029 tr AUROC 0.8914881702205192\n",
      "va loss 0.3102543130517006 va AUROC 0.8369821543683855\n",
      "Epoch 6\n",
      "tr loss 0.24993779850006104 tr AUROC 0.9010978046586238\n",
      "va loss 0.31104367692023516 va AUROC 0.8352359425871678\n",
      "Epoch 7\n",
      "tr loss 0.23078082948923112 tr AUROC 0.91823134548024\n",
      "va loss 0.3165449155494571 va AUROC 0.8350972248288467\n",
      "Epoch 8\n",
      "tr loss 0.21679350954294205 tr AUROC 0.9290426945866126\n",
      "va loss 0.3335194932296872 va AUROC 0.8260887304061166\n",
      "Epoch 9\n",
      "tr loss 0.19968283700942993 tr AUROC 0.9437747199348369\n",
      "va loss 0.3414528574794531 va AUROC 0.8212091292604711\n",
      "Epoch 10\n",
      "tr loss 0.17256855764985085 tr AUROC 0.9573538979204089\n",
      "va loss 0.35027428437024355 va AUROC 0.824048763371984\n",
      "Epoch 11\n",
      "tr loss 0.16958920866250993 tr AUROC 0.9716989401408681\n",
      "va loss 0.40029074251651764 va AUROC 0.7733678223759903\n",
      "Epoch 12\n",
      "tr loss 0.1326930844783783 tr AUROC 0.9814153681424211\n",
      "va loss 0.40058308374136686 va AUROC 0.7854689068224658\n",
      "Epoch 13\n",
      "tr loss 0.10280902290344238 tr AUROC 0.9894080434053953\n",
      "va loss 0.4101409316062927 va AUROC 0.7986307741266901\n",
      "Epoch 14\n",
      "tr loss 0.09117593029141426 tr AUROC 0.9929032678702824\n",
      "va loss 0.43439573142677546 va AUROC 0.7843102055470783\n",
      "Epoch 15\n",
      "tr loss 0.07236958661675454 tr AUROC 0.9954356915827407\n",
      "va loss 0.45523359067738056 va AUROC 0.8020905582165792\n",
      "Epoch 16\n",
      "tr loss 0.054431556805968284 tr AUROC 0.9983748750087879\n",
      "va loss 0.49911196902394295 va AUROC 0.7875741528016909\n",
      "Epoch 17\n",
      "tr loss 0.04522515200078488 tr AUROC 0.9993014399523525\n",
      "va loss 0.5437283162027597 va AUROC 0.7811360168419679\n",
      "Epoch 18\n",
      "tr loss 0.032256017252802846 tr AUROC 0.9997041167579005\n",
      "va loss 0.5635132882744074 va AUROC 0.7843428450196245\n",
      "Epoch 19\n",
      "tr loss 0.027481265790760517 tr AUROC 0.9998759816682532\n",
      "va loss 0.5827047806233168 va AUROC 0.7916132875292736\n",
      "Epoch 20\n",
      "tr loss 0.018807533819228412 tr AUROC 0.9999739714612383\n",
      "va loss 0.6284556314349174 va AUROC 0.7889205310442183\n",
      "Epoch 21\n",
      "tr loss 0.014779751038178801 tr AUROC 0.9999948963649486\n",
      "va loss 0.659525640308857 va AUROC 0.7742980473435549\n",
      "Epoch 22\n",
      "tr loss 0.010492166483774781 tr AUROC 0.9999969378189691\n",
      "va loss 0.7012634910643101 va AUROC 0.7820254424688498\n",
      "Epoch 23\n",
      "tr loss 0.007909325798973441 tr AUROC 0.9999997448182474\n",
      "va loss 0.7299951612949371 va AUROC 0.7761176979380013\n",
      "Epoch 24\n",
      "tr loss 0.006276708913967013 tr AUROC 1.0\n",
      "va loss 0.7419027164578438 va AUROC 0.7786798965328721\n",
      "Epoch 25\n",
      "tr loss 0.005029196659103036 tr AUROC 1.0\n",
      "va loss 0.7767283506691456 va AUROC 0.7738002953872265\n",
      "Epoch 26\n",
      "tr loss 0.004035965720191598 tr AUROC 1.0\n",
      "va loss 0.8080444075167179 va AUROC 0.7811604964463775\n",
      "Epoch 27\n",
      "tr loss 0.0034126324839890004 tr AUROC 1.0\n",
      "va loss 0.8334115967154503 va AUROC 0.7785248590382778\n",
      "Epoch 28\n",
      "tr loss 0.0028839878384023907 tr AUROC 1.0\n",
      "va loss 0.8568900655955076 va AUROC 0.7743388466842376\n",
      "Epoch 29\n",
      "tr loss 0.0024991410030052066 tr AUROC 1.0\n",
      "va loss 0.8660128079354763 va AUROC 0.7716950494080016\n",
      "Epoch 30\n",
      "tr loss 0.002113340949639678 tr AUROC 1.0\n",
      "va loss 0.8846979327499866 va AUROC 0.7763788137183703\n"
     ]
    },
    {
     "data": {
      "image/png": "[encoded data removed]",
      "text/plain": [
       "<Figure size 360x360 with 1 Axes>"
      ]
     },
     "metadata": {
      "needs_background": "light"
     },
     "output_type": "display_data"
    },
    {
     "data": {
      "image/png": "[encoded data removed]",
      "text/plain": [
       "<Figure size 360x360 with 1 Axes>"
      ]
     },
     "metadata": {
      "needs_background": "light"
     },
     "output_type": "display_data"
    }
   ],
   "source": [
    "#!mkdir -p checkpoint\n",
    "\n",
    "tr_loader, va_loader, te_loader = get_train_val_test(batch_size=64)\n",
    "    \n",
    "torch.random.manual_seed(0)\n",
    "np.random.seed(0)\n",
    "random.seed(0)\n",
    "\n",
    "n_epochs = 30\n",
    "learning_rate = 1e-3\n",
    "\n",
    "model = CNN(35*2, 64, 1, 48)\n",
    "print('Number of float-valued parameters:', count_parameters(model))\n",
    "\n",
    "model = model.to(device)\n",
    "criterion = torch.nn.BCELoss()\n",
    "optimizer = torch.optim.Adam(model.parameters(), lr=learning_rate)\n",
    "\n",
    "outputs = []\n",
    "\n",
    "print('Epoch', 0)\n",
    "out = _evaluate_epoch(tr_loader, va_loader, model, criterion)\n",
    "outputs.append(out)\n",
    "\n",
    "for epoch in range(0, n_epochs):\n",
    "    print('Epoch', epoch+1)\n",
    "    # Train model\n",
    "    _train_epoch(tr_loader, model, criterion, optimizer)\n",
    "\n",
    "    # Evaluate model\n",
    "    out = _evaluate_epoch(tr_loader, va_loader, model, criterion)\n",
    "    outputs.append(out)\n",
    "\n",
    "    # Save model parameters\n",
    "    save_checkpoint(model, epoch+1, 'checkpoint/')\n",
    "\n",
    "train_losses, val_losses, train_scores, val_scores = zip(*outputs)\n",
    "\n",
    "fig, ax = plt.subplots(figsize=(5,5))\n",
    "plt.plot(range(n_epochs + 1), train_scores, '--o', label='Train')\n",
    "plt.plot(range(n_epochs + 1), val_scores, '--o', label='Validation')\n",
    "plt.xlabel('epoch')\n",
    "plt.ylabel('AUROC')\n",
    "plt.legend()\n",
    "plt.savefig('auroc_times.png', dpi=300)\n",
    "\n",
    "fig, ax = plt.subplots(figsize=(5,5))\n",
    "plt.plot(range(n_epochs + 1), train_losses, '--o', label='Train')\n",
    "plt.plot(range(n_epochs + 1), val_losses, '--o', label='Validation')\n",
    "plt.xlabel('epoch')\n",
    "plt.ylabel('Loss (binary cross entropy)')\n",
    "plt.legend()\n",
    "plt.savefig('loss_times.png', dpi=300)\n"
   ]
  },
  {
   "cell_type": "markdown",
   "metadata": {},
   "source": [
    "Evaluation on test set"
   ]
  },
  {
   "cell_type": "code",
   "execution_count": 29,
   "metadata": {},
   "outputs": [
    {
     "name": "stdout",
     "output_type": "stream",
     "text": [
      "(10000, 105, 48) (10000,)\n",
      "Creating splits\n"
     ]
    },
    {
     "name": "stderr",
     "output_type": "stream",
     "text": [
      "/home/damorgal/anaconda3/lib/python3.7/site-packages/sklearn/model_selection/_split.py:2179: FutureWarning: From version 0.21, test_size will always complement train_size unless both are specified.\n",
      "  FutureWarning)\n"
     ]
    },
    {
     "name": "stdout",
     "output_type": "stream",
     "text": [
      "Feature shape, Label shape, Class balance:\n",
      "\t (8000, 105, 48) (8000,) 0.142875\n",
      "\t (1000, 105, 48) (1000,) 0.143\n",
      "\t (1000, 105, 48) (1000,) 0.143\n",
      "Which epoch to load from? Choose in range [1, 30].\n",
      "3\n",
      "Loading from checkpoint checkpoint/epoch=3.checkpoint.pth.tar\n",
      "=> Successfully restored checkpoint (trained for 3 epochs)\n",
      "Test loss : 0.3393523972481489\n",
      "Test AUROC: 0.8035674943492913\n"
     ]
    }
   ],
   "source": [
    "def restore_checkpoint(model, checkpoint_dir, cuda=False):\n",
    "    \"\"\"\n",
    "    If a checkpoint exists, restores the PyTorch model from the checkpoint.\n",
    "    Returns the model and the current epoch.\n",
    "    \"\"\"\n",
    "    cp_files = [file_ for file_ in os.listdir(checkpoint_dir)\n",
    "        if file_.startswith('epoch=') and file_.endswith('.checkpoint.pth.tar')]\n",
    "\n",
    "    if not cp_files:\n",
    "        print('No saved model parameters found')\n",
    "        if force:\n",
    "            raise Exception(\"Checkpoint not found\")\n",
    "        else:\n",
    "            return model, 0, []\n",
    "    \n",
    "    # Find latest epoch\n",
    "    for i in itertools.count(1):\n",
    "        if 'epoch={}.checkpoint.pth.tar'.format(i) in cp_files:\n",
    "            epoch = i\n",
    "        else:\n",
    "            break\n",
    "\n",
    "    print(\"Which epoch to load from? Choose in range [1, {}].\".format(epoch))\n",
    "    inp_epoch = int(input())\n",
    "    if inp_epoch not in range(1, epoch+1):\n",
    "        raise Exception(\"Invalid epoch number\")\n",
    "\n",
    "    filename = os.path.join(checkpoint_dir,\n",
    "        'epoch={}.checkpoint.pth.tar'.format(inp_epoch))\n",
    "\n",
    "    print(\"Loading from checkpoint {}\".format(filename))\n",
    "    \n",
    "    if cuda:\n",
    "        checkpoint = torch.load(filename)\n",
    "    else:\n",
    "        # Load GPU model on CPU\n",
    "        checkpoint = torch.load(filename,\n",
    "            map_location=lambda storage, loc: storage)\n",
    "\n",
    "    try:\n",
    "        start_epoch = checkpoint['epoch']\n",
    "        model.load_state_dict(checkpoint['state_dict'])\n",
    "        print(\"=> Successfully restored checkpoint (trained for {} epochs)\"\n",
    "            .format(checkpoint['epoch']))\n",
    "    except:\n",
    "        print(\"=> Checkpoint not successfully restored\")\n",
    "        raise\n",
    "\n",
    "    return model, inp_epoch\n",
    "\n",
    "def _evaluate_epoch(data_loader, model, criterion):\n",
    "    model.eval()\n",
    "    with torch.no_grad():\n",
    "        y_true, y_score = [], []\n",
    "        running_loss = []\n",
    "        for X, y in data_loader:\n",
    "            output = model(X)\n",
    "            y_true.append(y.numpy())\n",
    "            y_score.append(output)\n",
    "            running_loss.append(criterion(output, y).item())\n",
    "        y_true, y_score = np.concatenate(y_true), np.concatenate(y_score)\n",
    "    \n",
    "    loss = np.mean(running_loss)\n",
    "    score = metrics.roc_auc_score(y_true, y_score)\n",
    "    return loss, score\n",
    "\n",
    "_, _, te_loader = get_train_val_test(batch_size=64)\n",
    "model = CNN(35*2, 64, 1, 48)\n",
    "model, _ = restore_checkpoint(model, 'checkpoint/')\n",
    "criterion = torch.nn.BCELoss()\n",
    "loss, score = _evaluate_epoch(te_loader, model, criterion)\n",
    "print('Test loss :', loss)\n",
    "print('Test AUROC:', score)"
   ]
  },
  {
   "cell_type": "code",
   "execution_count": null,
   "metadata": {},
   "outputs": [],
   "source": []
  },
  {
   "cell_type": "code",
   "execution_count": 33,
   "metadata": {},
   "outputs": [
    {
     "name": "stderr",
     "output_type": "stream",
     "text": [
      "/home/damorgal/anaconda3/lib/python3.7/site-packages/ipykernel_launcher.py:2: YAMLLoadWarning: calling yaml.load() without Loader=... is deprecated, as the default Loader is unsafe. Please read https://msg.pyyaml.org/load for full details.\n",
      "  \n"
     ]
    }
   ],
   "source": [
    "import yaml\n",
    "config = yaml.load(open('lib/config.yaml'))\n",
    "static_variables = config['invariant']\n",
    "timeseries_variables = config['timeseries']"
   ]
  },
  {
   "cell_type": "code",
   "execution_count": 34,
   "metadata": {},
   "outputs": [
    {
     "data": {
      "text/plain": [
       "['Age', 'Gender', 'Height', 'ICUType', 'Weight']"
      ]
     },
     "execution_count": 34,
     "metadata": {},
     "output_type": "execute_result"
    }
   ],
   "source": [
    "static_variables"
   ]
  },
  {
   "cell_type": "code",
   "execution_count": null,
   "metadata": {},
   "outputs": [],
   "source": []
  }
 ],
 "metadata": {
  "kernelspec": {
   "display_name": "Python 3",
   "language": "python",
   "name": "python3"
  },
  "language_info": {
   "codemirror_mode": {
    "name": "ipython",
    "version": 3
   },
   "file_extension": ".py",
   "mimetype": "text/x-python",
   "name": "python",
   "nbconvert_exporter": "python",
   "pygments_lexer": "ipython3",
   "version": "3.7.3"
  }
 },
 "nbformat": 4,
 "nbformat_minor": 2
}
